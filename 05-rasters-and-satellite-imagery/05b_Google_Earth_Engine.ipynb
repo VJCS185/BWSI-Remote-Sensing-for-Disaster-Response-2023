{
 "cells": [
  {
   "cell_type": "markdown",
   "metadata": {},
   "source": [
    "# Getting started with python API for Google Earth Engine (GEE)\n",
    "\n",
    "## What is GEE and why use it?\n",
    "(quote from the official website)\n",
    "____________________________________________________________________________________________\n",
    "Google Earth Engine is a geospatial processing service. With Earth Engine, you can perform geospatial processing at scale, powered by Google Cloud Platform. The purpose of Earth Engine is to:\n",
    "\n",
    "    * Provide an interactive platform for geospatial algorithm development at scale\n",
    "    * Enable high-impact, data-driven science\n",
    "    * Make substantive progress on global challenges that involve large geospatial datasets\n",
    "____________________________________________________________________________________________\n",
    "\n",
    "More information on Google Earth Engine can be found here: https://developers.google.com/earth-engine\n",
    "\n",
    "### A couple of important points are summarized below: \n",
    "\n",
    "__-->__ GEE hosts a ***multi-petabyte catalog of satellite imagery and other geospatial datasets*** on their servers ***(1 petabyte = 1024 terabytes, or a million gigabytes)*`. More information can be found here: https://developers.google.com/earth-engine/datasets. \n",
    "\n",
    "__-->__ GEE uses Java script API but also has a python API. Both APIs aaccess the same server-side functionality. However, there are syntax differences between the two programming langauges. More information and examples can be found here: https://developers.google.com/earth-engine/guides/python_install#syntax\n",
    "\n",
    "\n",
    "\n",
    "\n",
    "# Today's exercise: Case study - Hurricane Maria (2017) impact on Puerto Rico \n",
    "\n",
    "\n",
    "_**IMPORTANT:**_ This script ported from Google Earth Engine (GEE) Java script and adaptaed to python jupyter notebook.\n",
    "\n",
    "_**--> Source & citation provided below.**_\n",
    "\n",
    "_**Source of original GEE script:**_ NASA-ARSET-training - Satellite Observations for Analyzing Natural Hazards on Small Island Nations\n",
    "https://appliedsciences.nasa.gov/join-mission/training/english/arset-satellite-observations-analyzing-natural-hazards-small-island\n",
    "\n",
    "_**Full citation:**_\n",
    "Podest, E.; McCartney, S.; Mehta, A.; Englander, J.; Hamlington, B.; Stanley, T. (2021). Satellite Observations for Analyzing Natural Hazards on Small Island Nations. NASA Applied Remote Sensing Training Program (ARSET). https://appliedsciences.nasa.gov/join-mission/training/english/arset-satellite-observations-analyzing-natural-hazards-small-island\n",
    "\n",
    "\n",
    "\n",
    "_**--> Revisions and edits by Atef AMRICHE, Jeff Liu 2022.**_\n",
    "\n",
    "**-----------------------------------------------------------------------------------**"
   ]
  },
  {
   "cell_type": "markdown",
   "metadata": {},
   "source": [
    "# VERY IMPORTANT:\n",
    "____________________________________________________________________________________________\n",
    "____________________________________________________________________________________________\n",
    "General information is formatted with an arrow at the beginning. \n",
    "\n",
    "**--> general information** about a certain tool or library or dataset ... and link provided at the end where available.\n",
    "\n",
    "\n",
    "python script analysis steps are presented in bullet points. Important information is highlighted in **bold** and code is notated in `preformatted text`. example below:\n",
    "- step 1 python analysis: import study area **\"name of study area\"** shapefile.\n",
    "to do this we use the command `example python command`. Other important information about this command or type of command can be found here (*example link*)\n",
    "- step 2 python analysis: use the command `example python command` to do the following operation.\n",
    "____________________________________________________________________________________________\n",
    "____________________________________________________________________________________________"
   ]
  },
  {
   "cell_type": "markdown",
   "metadata": {},
   "source": [
    "# ... Now let's begin !!\n",
    "\n",
    "## The following libraries are imported to use in this demo.\n",
    "\n",
    "- `ee` is the earth-engine python library that is installed & authenticated uzing a personal/professional Google Earth Engine account before use. More information can be found here: https://developers.google.com/earth-engine/guides/python_install\n",
    "\n",
    "\n",
    "- `geemap` is a python package that allows for interactive use of Google Earth Engine mapping and data analysis functions. More information can be found here: https://geemap.org/\n",
    "\n",
    "    The specific function `geemap` allows for creating interactive GEE maps that have a __base layer__ (google maps / terrain / other) plus a __specific result(s)__ overlayed on top (ex: satellite image, boundary of the study area, etc.)"
   ]
  },
  {
   "cell_type": "code",
   "execution_count": 9,
   "metadata": {},
   "outputs": [
    {
     "name": "stdout",
     "output_type": "stream",
     "text": [
      "Collecting earthengine-api\n",
      "  Downloading earthengine-api-0.1.361.tar.gz (246 kB)\n",
      "\u001b[K     |████████████████████████████████| 246 kB 8.0 MB/s eta 0:00:01\n",
      "\u001b[?25hCollecting google-cloud-storage\n",
      "  Downloading google_cloud_storage-2.10.0-py2.py3-none-any.whl (114 kB)\n",
      "\u001b[K     |████████████████████████████████| 114 kB 44.4 MB/s eta 0:00:01\n",
      "\u001b[?25hCollecting google-api-python-client>=1.12.1\n",
      "  Downloading google_api_python_client-2.95.0-py2.py3-none-any.whl (11.5 MB)\n",
      "\u001b[K     |████████████████████████████████| 11.5 MB 48.6 MB/s eta 0:00:01\n",
      "\u001b[?25hCollecting google-auth>=1.4.1\n",
      "  Downloading google_auth-2.22.0-py2.py3-none-any.whl (181 kB)\n",
      "\u001b[K     |████████████████████████████████| 181 kB 44.9 MB/s eta 0:00:01\n",
      "\u001b[?25hCollecting google-auth-httplib2>=0.0.3\n",
      "  Downloading google_auth_httplib2-0.1.0-py2.py3-none-any.whl (9.3 kB)\n",
      "Collecting httplib2<1dev,>=0.9.2\n",
      "  Downloading httplib2-0.22.0-py3-none-any.whl (96 kB)\n",
      "\u001b[K     |████████████████████████████████| 96 kB 10.0 MB/s eta 0:00:01\n",
      "\u001b[?25hRequirement already satisfied, skipping upgrade: requests in /opt/conda/lib/python3.7/site-packages (from earthengine-api) (2.24.0)\n",
      "Collecting google-resumable-media>=2.3.2\n",
      "  Downloading google_resumable_media-2.5.0-py2.py3-none-any.whl (77 kB)\n",
      "\u001b[K     |████████████████████████████████| 77 kB 10.9 MB/s eta 0:00:01\n",
      "\u001b[?25hCollecting google-cloud-core<3.0dev,>=2.3.0\n",
      "  Downloading google_cloud_core-2.3.3-py2.py3-none-any.whl (29 kB)\n",
      "Collecting google-api-core!=2.0.*,!=2.1.*,!=2.2.*,!=2.3.0,<3.0.0dev,>=1.31.5\n",
      "  Downloading google_api_core-2.11.1-py3-none-any.whl (120 kB)\n",
      "\u001b[K     |████████████████████████████████| 120 kB 46.9 MB/s eta 0:00:01\n",
      "\u001b[?25hCollecting uritemplate<5,>=3.0.1\n",
      "  Downloading uritemplate-4.1.1-py2.py3-none-any.whl (10 kB)\n",
      "Collecting pyasn1-modules>=0.2.1\n",
      "  Downloading pyasn1_modules-0.3.0-py2.py3-none-any.whl (181 kB)\n",
      "\u001b[K     |████████████████████████████████| 181 kB 53.5 MB/s eta 0:00:01\n",
      "\u001b[?25hCollecting rsa<5,>=3.1.4\n",
      "  Downloading rsa-4.9-py3-none-any.whl (34 kB)\n",
      "Collecting cachetools<6.0,>=2.0.0\n",
      "  Downloading cachetools-5.3.1-py3-none-any.whl (9.3 kB)\n",
      "Requirement already satisfied, skipping upgrade: six>=1.9.0 in /opt/conda/lib/python3.7/site-packages (from google-auth>=1.4.1->earthengine-api) (1.15.0)\n",
      "Requirement already satisfied, skipping upgrade: urllib3<2.0 in /opt/conda/lib/python3.7/site-packages (from google-auth>=1.4.1->earthengine-api) (1.25.9)\n",
      "Requirement already satisfied, skipping upgrade: pyparsing!=3.0.0,!=3.0.1,!=3.0.2,!=3.0.3,<4,>=2.4.2; python_version > \"3.0\" in /opt/conda/lib/python3.7/site-packages (from httplib2<1dev,>=0.9.2->earthengine-api) (2.4.7)\n",
      "Requirement already satisfied, skipping upgrade: chardet<4,>=3.0.2 in /opt/conda/lib/python3.7/site-packages (from requests->earthengine-api) (3.0.4)\n",
      "Requirement already satisfied, skipping upgrade: idna<3,>=2.5 in /opt/conda/lib/python3.7/site-packages (from requests->earthengine-api) (2.9)\n",
      "Requirement already satisfied, skipping upgrade: certifi>=2017.4.17 in /opt/conda/lib/python3.7/site-packages (from requests->earthengine-api) (2020.6.20)\n",
      "Collecting google-crc32c<2.0dev,>=1.0\n",
      "  Downloading google_crc32c-1.5.0-cp37-cp37m-manylinux_2_17_x86_64.manylinux2014_x86_64.whl (32 kB)\n",
      "Collecting protobuf!=3.20.0,!=3.20.1,!=4.21.0,!=4.21.1,!=4.21.2,!=4.21.3,!=4.21.4,!=4.21.5,<5.0.0.dev0,>=3.19.5\n",
      "  Downloading protobuf-4.23.4-cp37-abi3-manylinux2014_x86_64.whl (304 kB)\n",
      "\u001b[K     |████████████████████████████████| 304 kB 39.1 MB/s eta 0:00:01\n",
      "\u001b[?25hCollecting googleapis-common-protos<2.0.dev0,>=1.56.2\n",
      "  Downloading googleapis_common_protos-1.60.0-py2.py3-none-any.whl (227 kB)\n",
      "\u001b[K     |████████████████████████████████| 227 kB 46.1 MB/s eta 0:00:01\n",
      "\u001b[?25hCollecting pyasn1<0.6.0,>=0.4.6\n",
      "  Downloading pyasn1-0.5.0-py2.py3-none-any.whl (83 kB)\n",
      "\u001b[K     |████████████████████████████████| 83 kB 4.8 MB/s  eta 0:00:01\n",
      "\u001b[?25hBuilding wheels for collected packages: earthengine-api\n",
      "  Building wheel for earthengine-api (setup.py) ... \u001b[?25ldone\n",
      "\u001b[?25h  Created wheel for earthengine-api: filename=earthengine_api-0.1.361-py3-none-any.whl size=275913 sha256=227c728235e2192fd50d00fafc915adc3f6d3a7adb19cf9e13b6830301fdac03\n",
      "  Stored in directory: /home/jovyan/.cache/pip/wheels/61/3e/15/6018d787ee33930746b089bb8bd27b8f29cbf21ea8317be102\n",
      "Successfully built earthengine-api\n",
      "Installing collected packages: google-crc32c, google-resumable-media, protobuf, pyasn1, pyasn1-modules, rsa, cachetools, google-auth, googleapis-common-protos, google-api-core, google-cloud-core, google-cloud-storage, httplib2, uritemplate, google-auth-httplib2, google-api-python-client, earthengine-api\n",
      "  Attempting uninstall: protobuf\n",
      "    Found existing installation: protobuf 3.11.4\n",
      "    Uninstalling protobuf-3.11.4:\n",
      "      Successfully uninstalled protobuf-3.11.4\n",
      "Successfully installed cachetools-5.3.1 earthengine-api-0.1.361 google-api-core-2.11.1 google-api-python-client-2.95.0 google-auth-2.22.0 google-auth-httplib2-0.1.0 google-cloud-core-2.3.3 google-cloud-storage-2.10.0 google-crc32c-1.5.0 google-resumable-media-2.5.0 googleapis-common-protos-1.60.0 httplib2-0.22.0 protobuf-4.23.4 pyasn1-0.5.0 pyasn1-modules-0.3.0 rsa-4.9 uritemplate-4.1.1\n",
      "Note: you may need to restart the kernel to use updated packages.\n"
     ]
    }
   ],
   "source": [
    "pip install earthengine-api --upgrade"
   ]
  },
  {
   "cell_type": "code",
   "execution_count": 13,
   "metadata": {},
   "outputs": [
    {
     "name": "stdout",
     "output_type": "stream",
     "text": [
      "Collecting geemap\n",
      "  Downloading geemap-0.20.4-py2.py3-none-any.whl (2.1 MB)\n",
      "\u001b[K     |████████████████████████████████| 2.1 MB 7.9 MB/s eta 0:00:01\n",
      "\u001b[?25hCollecting ipyleaflet>=0.17.0\n",
      "  Downloading ipyleaflet-0.17.3-py3-none-any.whl (3.4 MB)\n",
      "\u001b[K     |████████████████████████████████| 3.4 MB 45.9 MB/s eta 0:00:01\n",
      "\u001b[?25hCollecting ipyfilechooser>=0.6.0\n",
      "  Downloading ipyfilechooser-0.6.0-py3-none-any.whl (11 kB)\n",
      "Collecting eerepr>=0.0.4\n",
      "  Downloading eerepr-0.0.4-py3-none-any.whl (9.7 kB)\n",
      "Collecting ffmpeg-python\n",
      "  Downloading ffmpeg_python-0.2.0-py3-none-any.whl (25 kB)\n",
      "Requirement already satisfied: earthengine-api>=0.1.304 in /opt/conda/lib/python3.7/site-packages (from geemap) (0.1.361)\n",
      "Requirement already satisfied: ipywidgets<8.0.0 in /opt/conda/lib/python3.7/site-packages (from geemap) (7.5.1)\n",
      "Collecting pyperclip\n",
      "  Downloading pyperclip-1.8.2.tar.gz (20 kB)\n",
      "Collecting ee-extra>=0.0.10\n",
      "  Downloading ee_extra-0.0.15.tar.gz (224 kB)\n",
      "\u001b[K     |████████████████████████████████| 224 kB 53.1 MB/s eta 0:00:01\n",
      "\u001b[?25hCollecting geocoder\n",
      "  Downloading geocoder-1.38.1-py2.py3-none-any.whl (98 kB)\n",
      "\u001b[K     |████████████████████████████████| 98 kB 8.7 MB/s  eta 0:00:01\n",
      "\u001b[?25hRequirement already satisfied: folium>=0.11.0 in /opt/conda/lib/python3.7/site-packages (from geemap) (0.11.0)\n",
      "Requirement already satisfied: numpy in /opt/conda/lib/python3.7/site-packages (from geemap) (1.18.5)\n",
      "Collecting ipyevents\n",
      "  Downloading ipyevents-2.0.1-py2.py3-none-any.whl (130 kB)\n",
      "\u001b[K     |████████████████████████████████| 130 kB 50.1 MB/s eta 0:00:01\n",
      "\u001b[?25hCollecting pycrs\n",
      "  Downloading PyCRS-1.0.2.tar.gz (36 kB)\n",
      "Collecting geojson\n",
      "  Downloading geojson-3.0.1-py3-none-any.whl (15 kB)\n",
      "Requirement already satisfied: matplotlib in /opt/conda/lib/python3.7/site-packages (from geemap) (3.2.1)\n",
      "Collecting gdown\n",
      "  Downloading gdown-4.7.1-py3-none-any.whl (15 kB)\n",
      "Collecting ipytree\n",
      "  Downloading ipytree-0.2.2-py2.py3-none-any.whl (1.3 MB)\n",
      "\u001b[K     |████████████████████████████████| 1.3 MB 45.8 MB/s eta 0:00:01\n",
      "\u001b[?25hRequirement already satisfied: pandas in /opt/conda/lib/python3.7/site-packages (from geemap) (1.0.5)\n",
      "Collecting whiteboxgui>=0.6.0\n",
      "  Downloading whiteboxgui-2.3.0-py2.py3-none-any.whl (108 kB)\n",
      "\u001b[K     |████████████████████████████████| 108 kB 58.8 MB/s eta 0:00:01\n",
      "\u001b[?25hCollecting colour\n",
      "  Downloading colour-0.1.5-py2.py3-none-any.whl (23 kB)\n",
      "Collecting sankee>=0.1.0\n",
      "  Downloading sankee-0.2.4.tar.gz (19 kB)\n",
      "Requirement already satisfied: scooby in /opt/conda/lib/python3.7/site-packages (from geemap) (0.5.6)\n",
      "Collecting xyzservices\n",
      "  Downloading xyzservices-2023.2.0-py3-none-any.whl (55 kB)\n",
      "\u001b[K     |████████████████████████████████| 55 kB 5.9 MB/s  eta 0:00:01\n",
      "\u001b[?25hCollecting geeadd>=0.5.1\n",
      "  Downloading geeadd-0.5.6-py3-none-any.whl (30 kB)\n",
      "Collecting bqplot\n",
      "  Downloading bqplot-0.12.40-py2.py3-none-any.whl (1.2 MB)\n",
      "\u001b[K     |████████████████████████████████| 1.2 MB 49.8 MB/s eta 0:00:01\n",
      "\u001b[?25hRequirement already satisfied: pillow in /opt/conda/lib/python3.7/site-packages (from geemap) (7.1.2)\n",
      "Collecting python-box\n",
      "  Downloading python_box-7.0.1-cp37-cp37m-manylinux_2_5_x86_64.manylinux1_x86_64.manylinux_2_12_x86_64.manylinux2010_x86_64.whl (2.9 MB)\n",
      "\u001b[K     |████████████████████████████████| 2.9 MB 55.3 MB/s eta 0:00:01     |█████████                       | 798 kB 55.3 MB/s eta 0:00:01\n",
      "\u001b[?25hCollecting pyshp>=2.1.3\n",
      "  Downloading pyshp-2.3.1-py2.py3-none-any.whl (46 kB)\n",
      "\u001b[K     |████████████████████████████████| 46 kB 7.1 MB/s  eta 0:00:01\n",
      "\u001b[?25hRequirement already satisfied: traittypes<3,>=0.2.1 in /opt/conda/lib/python3.7/site-packages (from ipyleaflet>=0.17.0->geemap) (0.2.1)\n",
      "Collecting branca>=0.5.0\n",
      "  Downloading branca-0.6.0-py3-none-any.whl (24 kB)\n",
      "Requirement already satisfied: future in /opt/conda/lib/python3.7/site-packages (from ffmpeg-python->geemap) (0.18.2)\n",
      "Requirement already satisfied: google-auth>=1.4.1 in /opt/conda/lib/python3.7/site-packages (from earthengine-api>=0.1.304->geemap) (2.22.0)\n",
      "Requirement already satisfied: google-auth-httplib2>=0.0.3 in /opt/conda/lib/python3.7/site-packages (from earthengine-api>=0.1.304->geemap) (0.1.0)\n",
      "Requirement already satisfied: google-api-python-client>=1.12.1 in /opt/conda/lib/python3.7/site-packages (from earthengine-api>=0.1.304->geemap) (2.95.0)\n",
      "Requirement already satisfied: google-cloud-storage in /opt/conda/lib/python3.7/site-packages (from earthengine-api>=0.1.304->geemap) (2.10.0)\n",
      "Requirement already satisfied: httplib2<1dev,>=0.9.2 in /opt/conda/lib/python3.7/site-packages (from earthengine-api>=0.1.304->geemap) (0.22.0)\n",
      "Requirement already satisfied: requests in /opt/conda/lib/python3.7/site-packages (from earthengine-api>=0.1.304->geemap) (2.24.0)\n",
      "Requirement already satisfied: nbformat>=4.2.0 in /opt/conda/lib/python3.7/site-packages (from ipywidgets<8.0.0->geemap) (5.0.6)\n",
      "Requirement already satisfied: ipykernel>=4.5.1 in /opt/conda/lib/python3.7/site-packages (from ipywidgets<8.0.0->geemap) (5.3.0)\n",
      "Requirement already satisfied: ipython>=4.0.0; python_version >= \"3.3\" in /opt/conda/lib/python3.7/site-packages (from ipywidgets<8.0.0->geemap) (7.15.0)\n",
      "Requirement already satisfied: widgetsnbextension~=3.5.0 in /opt/conda/lib/python3.7/site-packages (from ipywidgets<8.0.0->geemap) (3.5.1)\n",
      "Requirement already satisfied: traitlets>=4.3.1 in /opt/conda/lib/python3.7/site-packages (from ipywidgets<8.0.0->geemap) (4.3.3)\n",
      "Requirement already satisfied: click in /opt/conda/lib/python3.7/site-packages (from geocoder->geemap) (7.1.2)\n",
      "Collecting ratelim\n",
      "  Downloading ratelim-0.1.6-py2.py3-none-any.whl (4.0 kB)\n",
      "Requirement already satisfied: six in /opt/conda/lib/python3.7/site-packages (from geocoder->geemap) (1.15.0)\n",
      "Requirement already satisfied: jinja2>=2.9 in /opt/conda/lib/python3.7/site-packages (from folium>=0.11.0->geemap) (2.11.2)\n",
      "Requirement already satisfied: kiwisolver>=1.0.1 in /opt/conda/lib/python3.7/site-packages (from matplotlib->geemap) (1.2.0)\n",
      "Requirement already satisfied: cycler>=0.10 in /opt/conda/lib/python3.7/site-packages (from matplotlib->geemap) (0.10.0)\n",
      "Requirement already satisfied: python-dateutil>=2.1 in /opt/conda/lib/python3.7/site-packages (from matplotlib->geemap) (2.8.1)\n",
      "Requirement already satisfied: pyparsing!=2.0.4,!=2.1.2,!=2.1.6,>=2.0.1 in /opt/conda/lib/python3.7/site-packages (from matplotlib->geemap) (2.4.7)\n",
      "Requirement already satisfied: beautifulsoup4 in /opt/conda/lib/python3.7/site-packages (from gdown->geemap) (4.9.1)\n",
      "Collecting filelock\n",
      "  Downloading filelock-3.12.2-py3-none-any.whl (10 kB)\n",
      "Requirement already satisfied: tqdm in /opt/conda/lib/python3.7/site-packages (from gdown->geemap) (4.46.1)\n",
      "Requirement already satisfied: pytz>=2017.2 in /opt/conda/lib/python3.7/site-packages (from pandas->geemap) (2020.1)\n",
      "Collecting whitebox\n",
      "  Downloading whitebox-2.3.1-py2.py3-none-any.whl (72 kB)\n",
      "\u001b[K     |████████████████████████████████| 72 kB 799 kB/s  eta 0:00:01\n",
      "\u001b[?25hCollecting plotly>=5.2.2\n",
      "  Downloading plotly-5.15.0-py2.py3-none-any.whl (15.5 MB)\n",
      "\u001b[K     |████████████████████████████████| 15.5 MB 56.1 MB/s eta 0:00:01\n",
      "\u001b[?25hCollecting logzero>=1.5.0\n",
      "  Downloading logzero-1.7.0-py2.py3-none-any.whl (16 kB)\n",
      "Requirement already satisfied: urllib3<2.0 in /opt/conda/lib/python3.7/site-packages (from google-auth>=1.4.1->earthengine-api>=0.1.304->geemap) (1.25.9)\n",
      "Requirement already satisfied: pyasn1-modules>=0.2.1 in /opt/conda/lib/python3.7/site-packages (from google-auth>=1.4.1->earthengine-api>=0.1.304->geemap) (0.3.0)\n",
      "Requirement already satisfied: rsa<5,>=3.1.4 in /opt/conda/lib/python3.7/site-packages (from google-auth>=1.4.1->earthengine-api>=0.1.304->geemap) (4.9)\n",
      "Requirement already satisfied: cachetools<6.0,>=2.0.0 in /opt/conda/lib/python3.7/site-packages (from google-auth>=1.4.1->earthengine-api>=0.1.304->geemap) (5.3.1)\n",
      "Requirement already satisfied: google-api-core!=2.0.*,!=2.1.*,!=2.2.*,!=2.3.0,<3.0.0.dev0,>=1.31.5 in /opt/conda/lib/python3.7/site-packages (from google-api-python-client>=1.12.1->earthengine-api>=0.1.304->geemap) (2.11.1)\n",
      "Requirement already satisfied: uritemplate<5,>=3.0.1 in /opt/conda/lib/python3.7/site-packages (from google-api-python-client>=1.12.1->earthengine-api>=0.1.304->geemap) (4.1.1)\n",
      "Requirement already satisfied: google-cloud-core<3.0dev,>=2.3.0 in /opt/conda/lib/python3.7/site-packages (from google-cloud-storage->earthengine-api>=0.1.304->geemap) (2.3.3)\n",
      "Requirement already satisfied: google-resumable-media>=2.3.2 in /opt/conda/lib/python3.7/site-packages (from google-cloud-storage->earthengine-api>=0.1.304->geemap) (2.5.0)\n",
      "Requirement already satisfied: idna<3,>=2.5 in /opt/conda/lib/python3.7/site-packages (from requests->earthengine-api>=0.1.304->geemap) (2.9)\n",
      "Requirement already satisfied: chardet<4,>=3.0.2 in /opt/conda/lib/python3.7/site-packages (from requests->earthengine-api>=0.1.304->geemap) (3.0.4)\n",
      "Requirement already satisfied: certifi>=2017.4.17 in /opt/conda/lib/python3.7/site-packages (from requests->earthengine-api>=0.1.304->geemap) (2020.6.20)\n",
      "Requirement already satisfied: jupyter-core in /opt/conda/lib/python3.7/site-packages (from nbformat>=4.2.0->ipywidgets<8.0.0->geemap) (4.6.3)\n",
      "Requirement already satisfied: jsonschema!=2.5.0,>=2.4 in /opt/conda/lib/python3.7/site-packages (from nbformat>=4.2.0->ipywidgets<8.0.0->geemap) (3.2.0)\n",
      "Requirement already satisfied: ipython-genutils in /opt/conda/lib/python3.7/site-packages (from nbformat>=4.2.0->ipywidgets<8.0.0->geemap) (0.2.0)\n",
      "Requirement already satisfied: tornado>=4.2 in /opt/conda/lib/python3.7/site-packages (from ipykernel>=4.5.1->ipywidgets<8.0.0->geemap) (6.0.4)\n",
      "Requirement already satisfied: jupyter-client in /opt/conda/lib/python3.7/site-packages (from ipykernel>=4.5.1->ipywidgets<8.0.0->geemap) (6.1.3)\n",
      "Requirement already satisfied: prompt-toolkit!=3.0.0,!=3.0.1,<3.1.0,>=2.0.0 in /opt/conda/lib/python3.7/site-packages (from ipython>=4.0.0; python_version >= \"3.3\"->ipywidgets<8.0.0->geemap) (3.0.5)\n",
      "Requirement already satisfied: backcall in /opt/conda/lib/python3.7/site-packages (from ipython>=4.0.0; python_version >= \"3.3\"->ipywidgets<8.0.0->geemap) (0.2.0)\n",
      "Requirement already satisfied: jedi>=0.10 in /opt/conda/lib/python3.7/site-packages (from ipython>=4.0.0; python_version >= \"3.3\"->ipywidgets<8.0.0->geemap) (0.17.0)\n",
      "Requirement already satisfied: pexpect; sys_platform != \"win32\" in /opt/conda/lib/python3.7/site-packages (from ipython>=4.0.0; python_version >= \"3.3\"->ipywidgets<8.0.0->geemap) (4.8.0)\n",
      "Requirement already satisfied: pickleshare in /opt/conda/lib/python3.7/site-packages (from ipython>=4.0.0; python_version >= \"3.3\"->ipywidgets<8.0.0->geemap) (0.7.5)\n",
      "Requirement already satisfied: decorator in /opt/conda/lib/python3.7/site-packages (from ipython>=4.0.0; python_version >= \"3.3\"->ipywidgets<8.0.0->geemap) (4.4.2)\n",
      "Requirement already satisfied: setuptools>=18.5 in /opt/conda/lib/python3.7/site-packages (from ipython>=4.0.0; python_version >= \"3.3\"->ipywidgets<8.0.0->geemap) (47.3.1.post20200616)\n",
      "Requirement already satisfied: pygments in /opt/conda/lib/python3.7/site-packages (from ipython>=4.0.0; python_version >= \"3.3\"->ipywidgets<8.0.0->geemap) (2.6.1)\n",
      "Requirement already satisfied: notebook>=4.4.1 in /opt/conda/lib/python3.7/site-packages (from widgetsnbextension~=3.5.0->ipywidgets<8.0.0->geemap) (6.0.3)\n",
      "Requirement already satisfied: MarkupSafe>=0.23 in /opt/conda/lib/python3.7/site-packages (from jinja2>=2.9->folium>=0.11.0->geemap) (1.1.1)\n",
      "Requirement already satisfied: soupsieve>1.2 in /opt/conda/lib/python3.7/site-packages (from beautifulsoup4->gdown->geemap) (2.0.1)\n",
      "Collecting tenacity>=6.2.0\n",
      "  Downloading tenacity-8.2.2-py3-none-any.whl (24 kB)\n",
      "Requirement already satisfied: packaging in /opt/conda/lib/python3.7/site-packages (from plotly>=5.2.2->sankee>=0.1.0->geemap) (20.4)\n",
      "Requirement already satisfied: pyasn1<0.6.0,>=0.4.6 in /opt/conda/lib/python3.7/site-packages (from pyasn1-modules>=0.2.1->google-auth>=1.4.1->earthengine-api>=0.1.304->geemap) (0.5.0)\n",
      "Requirement already satisfied: protobuf!=3.20.0,!=3.20.1,!=4.21.0,!=4.21.1,!=4.21.2,!=4.21.3,!=4.21.4,!=4.21.5,<5.0.0.dev0,>=3.19.5 in /opt/conda/lib/python3.7/site-packages (from google-api-core!=2.0.*,!=2.1.*,!=2.2.*,!=2.3.0,<3.0.0.dev0,>=1.31.5->google-api-python-client>=1.12.1->earthengine-api>=0.1.304->geemap) (4.23.4)\n",
      "Requirement already satisfied: googleapis-common-protos<2.0.dev0,>=1.56.2 in /opt/conda/lib/python3.7/site-packages (from google-api-core!=2.0.*,!=2.1.*,!=2.2.*,!=2.3.0,<3.0.0.dev0,>=1.31.5->google-api-python-client>=1.12.1->earthengine-api>=0.1.304->geemap) (1.60.0)\n",
      "Requirement already satisfied: google-crc32c<2.0dev,>=1.0 in /opt/conda/lib/python3.7/site-packages (from google-resumable-media>=2.3.2->google-cloud-storage->earthengine-api>=0.1.304->geemap) (1.5.0)\n",
      "Requirement already satisfied: attrs>=17.4.0 in /opt/conda/lib/python3.7/site-packages (from jsonschema!=2.5.0,>=2.4->nbformat>=4.2.0->ipywidgets<8.0.0->geemap) (19.3.0)\n",
      "Requirement already satisfied: pyrsistent>=0.14.0 in /opt/conda/lib/python3.7/site-packages (from jsonschema!=2.5.0,>=2.4->nbformat>=4.2.0->ipywidgets<8.0.0->geemap) (0.16.0)\n",
      "Requirement already satisfied: importlib-metadata; python_version < \"3.8\" in /opt/conda/lib/python3.7/site-packages (from jsonschema!=2.5.0,>=2.4->nbformat>=4.2.0->ipywidgets<8.0.0->geemap) (1.6.1)\n",
      "Requirement already satisfied: pyzmq>=13 in /opt/conda/lib/python3.7/site-packages (from jupyter-client->ipykernel>=4.5.1->ipywidgets<8.0.0->geemap) (19.0.1)\n",
      "Requirement already satisfied: wcwidth in /opt/conda/lib/python3.7/site-packages (from prompt-toolkit!=3.0.0,!=3.0.1,<3.1.0,>=2.0.0->ipython>=4.0.0; python_version >= \"3.3\"->ipywidgets<8.0.0->geemap) (0.2.4)\n",
      "Requirement already satisfied: parso>=0.7.0 in /opt/conda/lib/python3.7/site-packages (from jedi>=0.10->ipython>=4.0.0; python_version >= \"3.3\"->ipywidgets<8.0.0->geemap) (0.7.0)\n",
      "Requirement already satisfied: ptyprocess>=0.5 in /opt/conda/lib/python3.7/site-packages (from pexpect; sys_platform != \"win32\"->ipython>=4.0.0; python_version >= \"3.3\"->ipywidgets<8.0.0->geemap) (0.6.0)\n",
      "Requirement already satisfied: terminado>=0.8.1 in /opt/conda/lib/python3.7/site-packages (from notebook>=4.4.1->widgetsnbextension~=3.5.0->ipywidgets<8.0.0->geemap) (0.8.3)\n",
      "Requirement already satisfied: Send2Trash in /opt/conda/lib/python3.7/site-packages (from notebook>=4.4.1->widgetsnbextension~=3.5.0->ipywidgets<8.0.0->geemap) (1.5.0)\n",
      "Requirement already satisfied: prometheus-client in /opt/conda/lib/python3.7/site-packages (from notebook>=4.4.1->widgetsnbextension~=3.5.0->ipywidgets<8.0.0->geemap) (0.8.0)\n",
      "Requirement already satisfied: nbconvert in /opt/conda/lib/python3.7/site-packages (from notebook>=4.4.1->widgetsnbextension~=3.5.0->ipywidgets<8.0.0->geemap) (5.6.1)\n",
      "Requirement already satisfied: zipp>=0.5 in /opt/conda/lib/python3.7/site-packages (from importlib-metadata; python_version < \"3.8\"->jsonschema!=2.5.0,>=2.4->nbformat>=4.2.0->ipywidgets<8.0.0->geemap) (3.1.0)\n",
      "Requirement already satisfied: testpath in /opt/conda/lib/python3.7/site-packages (from nbconvert->notebook>=4.4.1->widgetsnbextension~=3.5.0->ipywidgets<8.0.0->geemap) (0.4.4)\n",
      "Requirement already satisfied: bleach in /opt/conda/lib/python3.7/site-packages (from nbconvert->notebook>=4.4.1->widgetsnbextension~=3.5.0->ipywidgets<8.0.0->geemap) (3.1.5)\n",
      "Requirement already satisfied: entrypoints>=0.2.2 in /opt/conda/lib/python3.7/site-packages (from nbconvert->notebook>=4.4.1->widgetsnbextension~=3.5.0->ipywidgets<8.0.0->geemap) (0.3)\n",
      "Requirement already satisfied: mistune<2,>=0.8.1 in /opt/conda/lib/python3.7/site-packages (from nbconvert->notebook>=4.4.1->widgetsnbextension~=3.5.0->ipywidgets<8.0.0->geemap) (0.8.4)\n",
      "Requirement already satisfied: pandocfilters>=1.4.1 in /opt/conda/lib/python3.7/site-packages (from nbconvert->notebook>=4.4.1->widgetsnbextension~=3.5.0->ipywidgets<8.0.0->geemap) (1.4.2)\n",
      "Requirement already satisfied: defusedxml in /opt/conda/lib/python3.7/site-packages (from nbconvert->notebook>=4.4.1->widgetsnbextension~=3.5.0->ipywidgets<8.0.0->geemap) (0.6.0)\n",
      "Requirement already satisfied: webencodings in /opt/conda/lib/python3.7/site-packages (from bleach->nbconvert->notebook>=4.4.1->widgetsnbextension~=3.5.0->ipywidgets<8.0.0->geemap) (0.5.1)\n",
      "Building wheels for collected packages: pyperclip, ee-extra, pycrs, sankee\n",
      "  Building wheel for pyperclip (setup.py) ... \u001b[?25ldone\n",
      "\u001b[?25h  Created wheel for pyperclip: filename=pyperclip-1.8.2-py3-none-any.whl size=11107 sha256=6966a7110b2efbde592c12ad5b060a41cef36e34ff145d5a3c64ffbfedf5a522\n",
      "  Stored in directory: /home/jovyan/.cache/pip/wheels/9f/18/84/8f69f8b08169c7bae2dde6bd7daf0c19fca8c8e500ee620a28\n",
      "  Building wheel for ee-extra (setup.py) ... \u001b[?25ldone\n",
      "\u001b[?25h  Created wheel for ee-extra: filename=ee_extra-0.0.15-py3-none-any.whl size=236748 sha256=338de45b55c0b53c57125c5e9bfcd66e1f5bc6910f7a1948cf0e3232165c6d17\n",
      "  Stored in directory: /home/jovyan/.cache/pip/wheels/6f/1b/5a/18927e68e7908683c9439d65707242df984a943193261f9ddc\n",
      "  Building wheel for pycrs (setup.py) ... \u001b[?25ldone\n",
      "\u001b[?25h  Created wheel for pycrs: filename=PyCRS-1.0.2-py3-none-any.whl size=32681 sha256=8559f9ff56667a7b59796455ef203b0c8288c60da33c122617ae52a9dd91cbb8\n",
      "  Stored in directory: /home/jovyan/.cache/pip/wheels/3e/ce/32/1ec0aba6b9770681a423e82f0274c57d09ad2c20c2864901f9\n",
      "  Building wheel for sankee (setup.py) ... \u001b[?25ldone\n",
      "\u001b[?25h  Created wheel for sankee: filename=sankee-0.2.4-py3-none-any.whl size=19144 sha256=71c1c201aef4a96176e165d3737f659e6b146c76506b1cb870ac73e0e0671af5\n",
      "  Stored in directory: /home/jovyan/.cache/pip/wheels/30/72/82/660f0e582d7211b7aaf3bed30ee3c255a95e1d3e6a72a23ad8\n",
      "Successfully built pyperclip ee-extra pycrs sankee\n",
      "\u001b[31mERROR: ipyleaflet 0.17.3 has requirement ipywidgets<9,>=7.6.0, but you'll have ipywidgets 7.5.1 which is incompatible.\u001b[0m\n",
      "\u001b[31mERROR: ipyevents 2.0.1 has requirement ipywidgets>=7.6.0, but you'll have ipywidgets 7.5.1 which is incompatible.\u001b[0m\n",
      "Installing collected packages: xyzservices, branca, ipyleaflet, ipyfilechooser, eerepr, ffmpeg-python, pyperclip, ee-extra, ratelim, geocoder, ipyevents, pycrs, geojson, filelock, gdown, ipytree, whitebox, whiteboxgui, colour, tenacity, plotly, sankee, logzero, geeadd, bqplot, python-box, pyshp, geemap\n",
      "  Attempting uninstall: branca\n",
      "    Found existing installation: branca 0.4.1\n",
      "    Uninstalling branca-0.4.1:\n",
      "      Successfully uninstalled branca-0.4.1\n",
      "Successfully installed bqplot-0.12.40 branca-0.6.0 colour-0.1.5 ee-extra-0.0.15 eerepr-0.0.4 ffmpeg-python-0.2.0 filelock-3.12.2 gdown-4.7.1 geeadd-0.5.6 geemap-0.20.4 geocoder-1.38.1 geojson-3.0.1 ipyevents-2.0.1 ipyfilechooser-0.6.0 ipyleaflet-0.17.3 ipytree-0.2.2 logzero-1.7.0 plotly-5.15.0 pycrs-1.0.2 pyperclip-1.8.2 pyshp-2.3.1 python-box-7.0.1 ratelim-0.1.6 sankee-0.2.4 tenacity-8.2.2 whitebox-2.3.1 whiteboxgui-2.3.0 xyzservices-2023.2.0\n",
      "Requirement already satisfied: ipyleaflet in /opt/conda/lib/python3.7/site-packages (0.17.3)\n",
      "Requirement already satisfied: branca>=0.5.0 in /opt/conda/lib/python3.7/site-packages (from ipyleaflet) (0.6.0)\n",
      "Requirement already satisfied: xyzservices>=2021.8.1 in /opt/conda/lib/python3.7/site-packages (from ipyleaflet) (2023.2.0)\n",
      "Requirement already satisfied: traittypes<3,>=0.2.1 in /opt/conda/lib/python3.7/site-packages (from ipyleaflet) (0.2.1)\n",
      "Collecting ipywidgets<9,>=7.6.0\n",
      "  Downloading ipywidgets-8.0.7-py3-none-any.whl (138 kB)\n",
      "\u001b[K     |████████████████████████████████| 138 kB 6.2 MB/s eta 0:00:01\n",
      "\u001b[?25hRequirement already satisfied: jinja2 in /opt/conda/lib/python3.7/site-packages (from branca>=0.5.0->ipyleaflet) (2.11.2)\n",
      "Requirement already satisfied: traitlets>=4.2.2 in /opt/conda/lib/python3.7/site-packages (from traittypes<3,>=0.2.1->ipyleaflet) (4.3.3)\n",
      "Collecting jupyterlab-widgets~=3.0.7\n",
      "  Downloading jupyterlab_widgets-3.0.8-py3-none-any.whl (214 kB)\n",
      "\u001b[K     |████████████████████████████████| 214 kB 53.9 MB/s eta 0:00:01\n",
      "\u001b[?25hRequirement already satisfied: ipykernel>=4.5.1 in /opt/conda/lib/python3.7/site-packages (from ipywidgets<9,>=7.6.0->ipyleaflet) (5.3.0)\n",
      "Collecting widgetsnbextension~=4.0.7\n",
      "  Downloading widgetsnbextension-4.0.8-py3-none-any.whl (2.3 MB)\n",
      "\u001b[K     |████████████████████████████████| 2.3 MB 48.7 MB/s eta 0:00:01\n",
      "\u001b[?25hRequirement already satisfied: ipython>=6.1.0 in /opt/conda/lib/python3.7/site-packages (from ipywidgets<9,>=7.6.0->ipyleaflet) (7.15.0)\n",
      "Requirement already satisfied: MarkupSafe>=0.23 in /opt/conda/lib/python3.7/site-packages (from jinja2->branca>=0.5.0->ipyleaflet) (1.1.1)\n",
      "Requirement already satisfied: decorator in /opt/conda/lib/python3.7/site-packages (from traitlets>=4.2.2->traittypes<3,>=0.2.1->ipyleaflet) (4.4.2)\n",
      "Requirement already satisfied: ipython-genutils in /opt/conda/lib/python3.7/site-packages (from traitlets>=4.2.2->traittypes<3,>=0.2.1->ipyleaflet) (0.2.0)\n",
      "Requirement already satisfied: six in /opt/conda/lib/python3.7/site-packages (from traitlets>=4.2.2->traittypes<3,>=0.2.1->ipyleaflet) (1.15.0)\n",
      "Requirement already satisfied: jupyter-client in /opt/conda/lib/python3.7/site-packages (from ipykernel>=4.5.1->ipywidgets<9,>=7.6.0->ipyleaflet) (6.1.3)\n",
      "Requirement already satisfied: tornado>=4.2 in /opt/conda/lib/python3.7/site-packages (from ipykernel>=4.5.1->ipywidgets<9,>=7.6.0->ipyleaflet) (6.0.4)\n",
      "Requirement already satisfied: pickleshare in /opt/conda/lib/python3.7/site-packages (from ipython>=6.1.0->ipywidgets<9,>=7.6.0->ipyleaflet) (0.7.5)\n",
      "Requirement already satisfied: pexpect; sys_platform != \"win32\" in /opt/conda/lib/python3.7/site-packages (from ipython>=6.1.0->ipywidgets<9,>=7.6.0->ipyleaflet) (4.8.0)\n",
      "Requirement already satisfied: pygments in /opt/conda/lib/python3.7/site-packages (from ipython>=6.1.0->ipywidgets<9,>=7.6.0->ipyleaflet) (2.6.1)\n",
      "Requirement already satisfied: backcall in /opt/conda/lib/python3.7/site-packages (from ipython>=6.1.0->ipywidgets<9,>=7.6.0->ipyleaflet) (0.2.0)\n",
      "Requirement already satisfied: prompt-toolkit!=3.0.0,!=3.0.1,<3.1.0,>=2.0.0 in /opt/conda/lib/python3.7/site-packages (from ipython>=6.1.0->ipywidgets<9,>=7.6.0->ipyleaflet) (3.0.5)\n",
      "Requirement already satisfied: setuptools>=18.5 in /opt/conda/lib/python3.7/site-packages (from ipython>=6.1.0->ipywidgets<9,>=7.6.0->ipyleaflet) (47.3.1.post20200616)\n",
      "Requirement already satisfied: jedi>=0.10 in /opt/conda/lib/python3.7/site-packages (from ipython>=6.1.0->ipywidgets<9,>=7.6.0->ipyleaflet) (0.17.0)\n",
      "Requirement already satisfied: pyzmq>=13 in /opt/conda/lib/python3.7/site-packages (from jupyter-client->ipykernel>=4.5.1->ipywidgets<9,>=7.6.0->ipyleaflet) (19.0.1)\n",
      "Requirement already satisfied: python-dateutil>=2.1 in /opt/conda/lib/python3.7/site-packages (from jupyter-client->ipykernel>=4.5.1->ipywidgets<9,>=7.6.0->ipyleaflet) (2.8.1)\n",
      "Requirement already satisfied: jupyter-core>=4.6.0 in /opt/conda/lib/python3.7/site-packages (from jupyter-client->ipykernel>=4.5.1->ipywidgets<9,>=7.6.0->ipyleaflet) (4.6.3)\n",
      "Requirement already satisfied: ptyprocess>=0.5 in /opt/conda/lib/python3.7/site-packages (from pexpect; sys_platform != \"win32\"->ipython>=6.1.0->ipywidgets<9,>=7.6.0->ipyleaflet) (0.6.0)\n",
      "Requirement already satisfied: wcwidth in /opt/conda/lib/python3.7/site-packages (from prompt-toolkit!=3.0.0,!=3.0.1,<3.1.0,>=2.0.0->ipython>=6.1.0->ipywidgets<9,>=7.6.0->ipyleaflet) (0.2.4)\n",
      "Requirement already satisfied: parso>=0.7.0 in /opt/conda/lib/python3.7/site-packages (from jedi>=0.10->ipython>=6.1.0->ipywidgets<9,>=7.6.0->ipyleaflet) (0.7.0)\n",
      "\u001b[31mERROR: itkwidgets 0.31.3 requires itk-meshtopolydata>=0.6.2, which is not installed.\u001b[0m\n",
      "\u001b[31mERROR: geemap 0.20.4 has requirement ipywidgets<8.0.0, but you'll have ipywidgets 8.0.7 which is incompatible.\u001b[0m\n",
      "Installing collected packages: jupyterlab-widgets, widgetsnbextension, ipywidgets\n",
      "  Attempting uninstall: widgetsnbextension\n",
      "    Found existing installation: widgetsnbextension 3.5.1\n",
      "    Uninstalling widgetsnbextension-3.5.1:\n",
      "      Successfully uninstalled widgetsnbextension-3.5.1\n",
      "  Attempting uninstall: ipywidgets\n",
      "    Found existing installation: ipywidgets 7.5.1\n",
      "    Uninstalling ipywidgets-7.5.1:\n",
      "      Successfully uninstalled ipywidgets-7.5.1\n",
      "Successfully installed ipywidgets-8.0.7 jupyterlab-widgets-3.0.8 widgetsnbextension-4.0.8\n",
      "Requirement already satisfied: bqplot in /opt/conda/lib/python3.7/site-packages (0.12.40)\n",
      "Requirement already satisfied: numpy>=1.10.4 in /opt/conda/lib/python3.7/site-packages (from bqplot) (1.18.5)\n",
      "Requirement already satisfied: pandas<3.0.0,>=1.0.0 in /opt/conda/lib/python3.7/site-packages (from bqplot) (1.0.5)\n",
      "Requirement already satisfied: traittypes>=0.0.6 in /opt/conda/lib/python3.7/site-packages (from bqplot) (0.2.1)\n",
      "Requirement already satisfied: ipywidgets<9,>=7.5.0 in /opt/conda/lib/python3.7/site-packages (from bqplot) (8.0.7)\n",
      "Requirement already satisfied: traitlets>=4.3.0 in /opt/conda/lib/python3.7/site-packages (from bqplot) (4.3.3)\n",
      "Requirement already satisfied: python-dateutil>=2.6.1 in /opt/conda/lib/python3.7/site-packages (from pandas<3.0.0,>=1.0.0->bqplot) (2.8.1)\n",
      "Requirement already satisfied: pytz>=2017.2 in /opt/conda/lib/python3.7/site-packages (from pandas<3.0.0,>=1.0.0->bqplot) (2020.1)\n",
      "Requirement already satisfied: jupyterlab-widgets~=3.0.7 in /opt/conda/lib/python3.7/site-packages (from ipywidgets<9,>=7.5.0->bqplot) (3.0.8)\n",
      "Requirement already satisfied: ipython>=6.1.0 in /opt/conda/lib/python3.7/site-packages (from ipywidgets<9,>=7.5.0->bqplot) (7.15.0)\n",
      "Requirement already satisfied: widgetsnbextension~=4.0.7 in /opt/conda/lib/python3.7/site-packages (from ipywidgets<9,>=7.5.0->bqplot) (4.0.8)\n",
      "Requirement already satisfied: ipykernel>=4.5.1 in /opt/conda/lib/python3.7/site-packages (from ipywidgets<9,>=7.5.0->bqplot) (5.3.0)\n",
      "Requirement already satisfied: decorator in /opt/conda/lib/python3.7/site-packages (from traitlets>=4.3.0->bqplot) (4.4.2)\n",
      "Requirement already satisfied: ipython-genutils in /opt/conda/lib/python3.7/site-packages (from traitlets>=4.3.0->bqplot) (0.2.0)\n",
      "Requirement already satisfied: six in /opt/conda/lib/python3.7/site-packages (from traitlets>=4.3.0->bqplot) (1.15.0)\n",
      "Requirement already satisfied: pickleshare in /opt/conda/lib/python3.7/site-packages (from ipython>=6.1.0->ipywidgets<9,>=7.5.0->bqplot) (0.7.5)\n",
      "Requirement already satisfied: prompt-toolkit!=3.0.0,!=3.0.1,<3.1.0,>=2.0.0 in /opt/conda/lib/python3.7/site-packages (from ipython>=6.1.0->ipywidgets<9,>=7.5.0->bqplot) (3.0.5)\n",
      "Requirement already satisfied: jedi>=0.10 in /opt/conda/lib/python3.7/site-packages (from ipython>=6.1.0->ipywidgets<9,>=7.5.0->bqplot) (0.17.0)\n",
      "Requirement already satisfied: backcall in /opt/conda/lib/python3.7/site-packages (from ipython>=6.1.0->ipywidgets<9,>=7.5.0->bqplot) (0.2.0)\n",
      "Requirement already satisfied: pygments in /opt/conda/lib/python3.7/site-packages (from ipython>=6.1.0->ipywidgets<9,>=7.5.0->bqplot) (2.6.1)\n",
      "Requirement already satisfied: setuptools>=18.5 in /opt/conda/lib/python3.7/site-packages (from ipython>=6.1.0->ipywidgets<9,>=7.5.0->bqplot) (47.3.1.post20200616)\n",
      "Requirement already satisfied: pexpect; sys_platform != \"win32\" in /opt/conda/lib/python3.7/site-packages (from ipython>=6.1.0->ipywidgets<9,>=7.5.0->bqplot) (4.8.0)\n",
      "Requirement already satisfied: jupyter-client in /opt/conda/lib/python3.7/site-packages (from ipykernel>=4.5.1->ipywidgets<9,>=7.5.0->bqplot) (6.1.3)\n",
      "Requirement already satisfied: tornado>=4.2 in /opt/conda/lib/python3.7/site-packages (from ipykernel>=4.5.1->ipywidgets<9,>=7.5.0->bqplot) (6.0.4)\n",
      "Requirement already satisfied: wcwidth in /opt/conda/lib/python3.7/site-packages (from prompt-toolkit!=3.0.0,!=3.0.1,<3.1.0,>=2.0.0->ipython>=6.1.0->ipywidgets<9,>=7.5.0->bqplot) (0.2.4)\n",
      "Requirement already satisfied: parso>=0.7.0 in /opt/conda/lib/python3.7/site-packages (from jedi>=0.10->ipython>=6.1.0->ipywidgets<9,>=7.5.0->bqplot) (0.7.0)\n",
      "Requirement already satisfied: ptyprocess>=0.5 in /opt/conda/lib/python3.7/site-packages (from pexpect; sys_platform != \"win32\"->ipython>=6.1.0->ipywidgets<9,>=7.5.0->bqplot) (0.6.0)\n",
      "Requirement already satisfied: jupyter-core>=4.6.0 in /opt/conda/lib/python3.7/site-packages (from jupyter-client->ipykernel>=4.5.1->ipywidgets<9,>=7.5.0->bqplot) (4.6.3)\n",
      "Requirement already satisfied: pyzmq>=13 in /opt/conda/lib/python3.7/site-packages (from jupyter-client->ipykernel>=4.5.1->ipywidgets<9,>=7.5.0->bqplot) (19.0.1)\n"
     ]
    }
   ],
   "source": [
    "!pip install geemap\n",
    "!pip install ipyleaflet\n",
    "!pip install bqplot\n"
   ]
  },
  {
   "cell_type": "code",
   "execution_count": 32,
   "metadata": {},
   "outputs": [
    {
     "name": "stdout",
     "output_type": "stream",
     "text": [
      "Requirement already up-to-date: geemap in /opt/conda/lib/python3.7/site-packages (0.20.4)\n",
      "Requirement already satisfied, skipping upgrade: xyzservices in /opt/conda/lib/python3.7/site-packages (from geemap) (2023.2.0)\n",
      "Requirement already satisfied, skipping upgrade: ipyfilechooser>=0.6.0 in /opt/conda/lib/python3.7/site-packages (from geemap) (0.6.0)\n",
      "Requirement already satisfied, skipping upgrade: ipytree in /opt/conda/lib/python3.7/site-packages (from geemap) (0.2.2)\n",
      "Requirement already satisfied, skipping upgrade: pyshp>=2.1.3 in /opt/conda/lib/python3.7/site-packages (from geemap) (2.3.1)\n",
      "Requirement already satisfied, skipping upgrade: whiteboxgui>=0.6.0 in /opt/conda/lib/python3.7/site-packages (from geemap) (2.3.0)\n",
      "Requirement already satisfied, skipping upgrade: scooby in /opt/conda/lib/python3.7/site-packages (from geemap) (0.5.6)\n",
      "Requirement already satisfied, skipping upgrade: pillow in /opt/conda/lib/python3.7/site-packages (from geemap) (7.1.2)\n",
      "Requirement already satisfied, skipping upgrade: pycrs in /opt/conda/lib/python3.7/site-packages (from geemap) (1.0.2)\n",
      "Requirement already satisfied, skipping upgrade: bqplot in /opt/conda/lib/python3.7/site-packages (from geemap) (0.12.40)\n",
      "Requirement already satisfied, skipping upgrade: pandas in /opt/conda/lib/python3.7/site-packages (from geemap) (1.0.5)\n",
      "Requirement already satisfied, skipping upgrade: geeadd>=0.5.1 in /opt/conda/lib/python3.7/site-packages (from geemap) (0.5.6)\n",
      "Requirement already satisfied, skipping upgrade: geocoder in /opt/conda/lib/python3.7/site-packages (from geemap) (1.38.1)\n",
      "Requirement already satisfied, skipping upgrade: eerepr>=0.0.4 in /opt/conda/lib/python3.7/site-packages (from geemap) (0.0.4)\n",
      "Requirement already satisfied, skipping upgrade: matplotlib in /opt/conda/lib/python3.7/site-packages (from geemap) (3.2.1)\n",
      "Collecting ipywidgets<8.0.0\n",
      "  Downloading ipywidgets-7.8.0-py2.py3-none-any.whl (124 kB)\n",
      "\u001b[K     |████████████████████████████████| 124 kB 5.3 MB/s eta 0:00:01\n",
      "\u001b[?25hRequirement already satisfied, skipping upgrade: sankee>=0.1.0 in /opt/conda/lib/python3.7/site-packages (from geemap) (0.2.4)\n",
      "Requirement already satisfied, skipping upgrade: ipyevents in /opt/conda/lib/python3.7/site-packages (from geemap) (2.0.1)\n",
      "Requirement already satisfied, skipping upgrade: earthengine-api>=0.1.304 in /opt/conda/lib/python3.7/site-packages (from geemap) (0.1.361)\n",
      "Requirement already satisfied, skipping upgrade: python-box in /opt/conda/lib/python3.7/site-packages (from geemap) (7.0.1)\n",
      "Requirement already satisfied, skipping upgrade: numpy in /opt/conda/lib/python3.7/site-packages (from geemap) (1.18.5)\n",
      "Requirement already satisfied, skipping upgrade: gdown in /opt/conda/lib/python3.7/site-packages (from geemap) (4.7.1)\n",
      "Requirement already satisfied, skipping upgrade: ee-extra>=0.0.10 in /opt/conda/lib/python3.7/site-packages (from geemap) (0.0.15)\n",
      "Requirement already satisfied, skipping upgrade: folium>=0.11.0 in /opt/conda/lib/python3.7/site-packages (from geemap) (0.11.0)\n",
      "Requirement already satisfied, skipping upgrade: colour in /opt/conda/lib/python3.7/site-packages (from geemap) (0.1.5)\n",
      "Requirement already satisfied, skipping upgrade: ipyleaflet>=0.17.0 in /opt/conda/lib/python3.7/site-packages (from geemap) (0.17.3)\n",
      "Requirement already satisfied, skipping upgrade: pyperclip in /opt/conda/lib/python3.7/site-packages (from geemap) (1.8.2)\n",
      "Requirement already satisfied, skipping upgrade: geojson in /opt/conda/lib/python3.7/site-packages (from geemap) (3.0.1)\n",
      "Requirement already satisfied, skipping upgrade: ffmpeg-python in /opt/conda/lib/python3.7/site-packages (from geemap) (0.2.0)\n",
      "Requirement already satisfied, skipping upgrade: whitebox in /opt/conda/lib/python3.7/site-packages (from whiteboxgui>=0.6.0->geemap) (2.3.1)\n",
      "Requirement already satisfied, skipping upgrade: traittypes>=0.0.6 in /opt/conda/lib/python3.7/site-packages (from bqplot->geemap) (0.2.1)\n",
      "Requirement already satisfied, skipping upgrade: traitlets>=4.3.0 in /opt/conda/lib/python3.7/site-packages (from bqplot->geemap) (4.3.3)\n",
      "Requirement already satisfied, skipping upgrade: pytz>=2017.2 in /opt/conda/lib/python3.7/site-packages (from pandas->geemap) (2020.1)\n",
      "Requirement already satisfied, skipping upgrade: python-dateutil>=2.6.1 in /opt/conda/lib/python3.7/site-packages (from pandas->geemap) (2.8.1)\n",
      "Requirement already satisfied, skipping upgrade: beautifulsoup4>=4.9.0 in /opt/conda/lib/python3.7/site-packages (from geeadd>=0.5.1->geemap) (4.9.1)\n",
      "Requirement already satisfied, skipping upgrade: requests>=2.22.0 in /opt/conda/lib/python3.7/site-packages (from geeadd>=0.5.1->geemap) (2.24.0)\n",
      "Requirement already satisfied, skipping upgrade: logzero>=1.5.0 in /opt/conda/lib/python3.7/site-packages (from geeadd>=0.5.1->geemap) (1.7.0)\n",
      "Requirement already satisfied, skipping upgrade: click in /opt/conda/lib/python3.7/site-packages (from geocoder->geemap) (7.1.2)\n",
      "Requirement already satisfied, skipping upgrade: future in /opt/conda/lib/python3.7/site-packages (from geocoder->geemap) (0.18.2)\n",
      "Requirement already satisfied, skipping upgrade: six in /opt/conda/lib/python3.7/site-packages (from geocoder->geemap) (1.15.0)\n",
      "Requirement already satisfied, skipping upgrade: ratelim in /opt/conda/lib/python3.7/site-packages (from geocoder->geemap) (0.1.6)\n",
      "Requirement already satisfied, skipping upgrade: pyparsing!=2.0.4,!=2.1.2,!=2.1.6,>=2.0.1 in /opt/conda/lib/python3.7/site-packages (from matplotlib->geemap) (2.4.7)\n",
      "Requirement already satisfied, skipping upgrade: cycler>=0.10 in /opt/conda/lib/python3.7/site-packages (from matplotlib->geemap) (0.10.0)\n",
      "Requirement already satisfied, skipping upgrade: kiwisolver>=1.0.1 in /opt/conda/lib/python3.7/site-packages (from matplotlib->geemap) (1.2.0)\n",
      "Requirement already satisfied, skipping upgrade: ipython-genutils~=0.2.0 in /opt/conda/lib/python3.7/site-packages (from ipywidgets<8.0.0->geemap) (0.2.0)\n",
      "Collecting widgetsnbextension~=3.6.5\n",
      "  Downloading widgetsnbextension-3.6.5-py2.py3-none-any.whl (1.6 MB)\n",
      "\u001b[K     |████████████████████████████████| 1.6 MB 15.4 MB/s eta 0:00:01\n",
      "\u001b[?25hCollecting comm>=0.1.3\n",
      "  Downloading comm-0.1.3-py3-none-any.whl (6.6 kB)\n",
      "Collecting jupyterlab-widgets<3,>=1.0.0; python_version >= \"3.6\"\n",
      "  Downloading jupyterlab_widgets-1.1.5-py3-none-any.whl (246 kB)\n",
      "\u001b[K     |████████████████████████████████| 246 kB 57.1 MB/s eta 0:00:01\n",
      "\u001b[?25hRequirement already satisfied, skipping upgrade: ipython>=4.0.0; python_version >= \"3.3\" in /opt/conda/lib/python3.7/site-packages (from ipywidgets<8.0.0->geemap) (7.15.0)\n",
      "Requirement already satisfied, skipping upgrade: plotly>=5.2.2 in /opt/conda/lib/python3.7/site-packages (from sankee>=0.1.0->geemap) (5.15.0)\n",
      "Requirement already satisfied, skipping upgrade: google-auth-httplib2>=0.0.3 in /opt/conda/lib/python3.7/site-packages (from earthengine-api>=0.1.304->geemap) (0.1.0)\n",
      "Requirement already satisfied, skipping upgrade: google-auth>=1.4.1 in /opt/conda/lib/python3.7/site-packages (from earthengine-api>=0.1.304->geemap) (2.22.0)\n",
      "Requirement already satisfied, skipping upgrade: google-api-python-client>=1.12.1 in /opt/conda/lib/python3.7/site-packages (from earthengine-api>=0.1.304->geemap) (2.95.0)\n",
      "Requirement already satisfied, skipping upgrade: google-cloud-storage in /opt/conda/lib/python3.7/site-packages (from earthengine-api>=0.1.304->geemap) (2.10.0)\n",
      "Requirement already satisfied, skipping upgrade: httplib2<1dev,>=0.9.2 in /opt/conda/lib/python3.7/site-packages (from earthengine-api>=0.1.304->geemap) (0.22.0)\n",
      "Requirement already satisfied, skipping upgrade: filelock in /opt/conda/lib/python3.7/site-packages (from gdown->geemap) (3.12.2)\n",
      "Requirement already satisfied, skipping upgrade: tqdm in /opt/conda/lib/python3.7/site-packages (from gdown->geemap) (4.46.1)\n",
      "Requirement already satisfied, skipping upgrade: branca>=0.3.0 in /opt/conda/lib/python3.7/site-packages (from folium>=0.11.0->geemap) (0.6.0)\n",
      "Requirement already satisfied, skipping upgrade: jinja2>=2.9 in /opt/conda/lib/python3.7/site-packages (from folium>=0.11.0->geemap) (2.11.2)\n",
      "Requirement already satisfied, skipping upgrade: decorator in /opt/conda/lib/python3.7/site-packages (from traitlets>=4.3.0->bqplot->geemap) (4.4.2)\n",
      "Requirement already satisfied, skipping upgrade: soupsieve>1.2 in /opt/conda/lib/python3.7/site-packages (from beautifulsoup4>=4.9.0->geeadd>=0.5.1->geemap) (2.0.1)\n",
      "Requirement already satisfied, skipping upgrade: chardet<4,>=3.0.2 in /opt/conda/lib/python3.7/site-packages (from requests>=2.22.0->geeadd>=0.5.1->geemap) (3.0.4)\n",
      "Requirement already satisfied, skipping upgrade: idna<3,>=2.5 in /opt/conda/lib/python3.7/site-packages (from requests>=2.22.0->geeadd>=0.5.1->geemap) (2.9)\n",
      "Requirement already satisfied, skipping upgrade: urllib3!=1.25.0,!=1.25.1,<1.26,>=1.21.1 in /opt/conda/lib/python3.7/site-packages (from requests>=2.22.0->geeadd>=0.5.1->geemap) (1.25.9)\n",
      "Requirement already satisfied, skipping upgrade: certifi>=2017.4.17 in /opt/conda/lib/python3.7/site-packages (from requests>=2.22.0->geeadd>=0.5.1->geemap) (2020.6.20)\n",
      "Requirement already satisfied, skipping upgrade: notebook>=4.4.1 in /opt/conda/lib/python3.7/site-packages (from widgetsnbextension~=3.6.5->ipywidgets<8.0.0->geemap) (6.0.3)\n",
      "Requirement already satisfied, skipping upgrade: pygments in /opt/conda/lib/python3.7/site-packages (from ipython>=4.0.0; python_version >= \"3.3\"->ipywidgets<8.0.0->geemap) (2.6.1)\n",
      "Requirement already satisfied, skipping upgrade: pexpect; sys_platform != \"win32\" in /opt/conda/lib/python3.7/site-packages (from ipython>=4.0.0; python_version >= \"3.3\"->ipywidgets<8.0.0->geemap) (4.8.0)\n",
      "Requirement already satisfied, skipping upgrade: prompt-toolkit!=3.0.0,!=3.0.1,<3.1.0,>=2.0.0 in /opt/conda/lib/python3.7/site-packages (from ipython>=4.0.0; python_version >= \"3.3\"->ipywidgets<8.0.0->geemap) (3.0.5)\n",
      "Requirement already satisfied, skipping upgrade: setuptools>=18.5 in /opt/conda/lib/python3.7/site-packages (from ipython>=4.0.0; python_version >= \"3.3\"->ipywidgets<8.0.0->geemap) (47.3.1.post20200616)\n",
      "Requirement already satisfied, skipping upgrade: backcall in /opt/conda/lib/python3.7/site-packages (from ipython>=4.0.0; python_version >= \"3.3\"->ipywidgets<8.0.0->geemap) (0.2.0)\n",
      "Requirement already satisfied, skipping upgrade: pickleshare in /opt/conda/lib/python3.7/site-packages (from ipython>=4.0.0; python_version >= \"3.3\"->ipywidgets<8.0.0->geemap) (0.7.5)\n",
      "Requirement already satisfied, skipping upgrade: jedi>=0.10 in /opt/conda/lib/python3.7/site-packages (from ipython>=4.0.0; python_version >= \"3.3\"->ipywidgets<8.0.0->geemap) (0.17.0)\n",
      "Requirement already satisfied, skipping upgrade: tenacity>=6.2.0 in /opt/conda/lib/python3.7/site-packages (from plotly>=5.2.2->sankee>=0.1.0->geemap) (8.2.2)\n",
      "Requirement already satisfied, skipping upgrade: packaging in /opt/conda/lib/python3.7/site-packages (from plotly>=5.2.2->sankee>=0.1.0->geemap) (20.4)\n",
      "Requirement already satisfied, skipping upgrade: pyasn1-modules>=0.2.1 in /opt/conda/lib/python3.7/site-packages (from google-auth>=1.4.1->earthengine-api>=0.1.304->geemap) (0.3.0)\n",
      "Requirement already satisfied, skipping upgrade: cachetools<6.0,>=2.0.0 in /opt/conda/lib/python3.7/site-packages (from google-auth>=1.4.1->earthengine-api>=0.1.304->geemap) (5.3.1)\n",
      "Requirement already satisfied, skipping upgrade: rsa<5,>=3.1.4 in /opt/conda/lib/python3.7/site-packages (from google-auth>=1.4.1->earthengine-api>=0.1.304->geemap) (4.9)\n",
      "Requirement already satisfied, skipping upgrade: uritemplate<5,>=3.0.1 in /opt/conda/lib/python3.7/site-packages (from google-api-python-client>=1.12.1->earthengine-api>=0.1.304->geemap) (4.1.1)\n",
      "Requirement already satisfied, skipping upgrade: google-api-core!=2.0.*,!=2.1.*,!=2.2.*,!=2.3.0,<3.0.0.dev0,>=1.31.5 in /opt/conda/lib/python3.7/site-packages (from google-api-python-client>=1.12.1->earthengine-api>=0.1.304->geemap) (2.11.1)\n",
      "Requirement already satisfied, skipping upgrade: google-resumable-media>=2.3.2 in /opt/conda/lib/python3.7/site-packages (from google-cloud-storage->earthengine-api>=0.1.304->geemap) (2.5.0)\n",
      "Requirement already satisfied, skipping upgrade: google-cloud-core<3.0dev,>=2.3.0 in /opt/conda/lib/python3.7/site-packages (from google-cloud-storage->earthengine-api>=0.1.304->geemap) (2.3.3)\n",
      "Requirement already satisfied, skipping upgrade: MarkupSafe>=0.23 in /opt/conda/lib/python3.7/site-packages (from jinja2>=2.9->folium>=0.11.0->geemap) (1.1.1)\n",
      "Requirement already satisfied, skipping upgrade: terminado>=0.8.1 in /opt/conda/lib/python3.7/site-packages (from notebook>=4.4.1->widgetsnbextension~=3.6.5->ipywidgets<8.0.0->geemap) (0.8.3)\n",
      "Requirement already satisfied, skipping upgrade: nbformat in /opt/conda/lib/python3.7/site-packages (from notebook>=4.4.1->widgetsnbextension~=3.6.5->ipywidgets<8.0.0->geemap) (5.0.6)\n",
      "Requirement already satisfied, skipping upgrade: Send2Trash in /opt/conda/lib/python3.7/site-packages (from notebook>=4.4.1->widgetsnbextension~=3.6.5->ipywidgets<8.0.0->geemap) (1.5.0)\n",
      "Requirement already satisfied, skipping upgrade: jupyter-core>=4.6.1 in /opt/conda/lib/python3.7/site-packages (from notebook>=4.4.1->widgetsnbextension~=3.6.5->ipywidgets<8.0.0->geemap) (4.6.3)\n",
      "Requirement already satisfied, skipping upgrade: prometheus-client in /opt/conda/lib/python3.7/site-packages (from notebook>=4.4.1->widgetsnbextension~=3.6.5->ipywidgets<8.0.0->geemap) (0.8.0)\n",
      "Requirement already satisfied, skipping upgrade: jupyter-client>=5.3.4 in /opt/conda/lib/python3.7/site-packages (from notebook>=4.4.1->widgetsnbextension~=3.6.5->ipywidgets<8.0.0->geemap) (6.1.3)\n",
      "Requirement already satisfied, skipping upgrade: nbconvert in /opt/conda/lib/python3.7/site-packages (from notebook>=4.4.1->widgetsnbextension~=3.6.5->ipywidgets<8.0.0->geemap) (5.6.1)\n",
      "Requirement already satisfied, skipping upgrade: ipykernel in /opt/conda/lib/python3.7/site-packages (from notebook>=4.4.1->widgetsnbextension~=3.6.5->ipywidgets<8.0.0->geemap) (5.3.0)\n",
      "Requirement already satisfied, skipping upgrade: pyzmq>=17 in /opt/conda/lib/python3.7/site-packages (from notebook>=4.4.1->widgetsnbextension~=3.6.5->ipywidgets<8.0.0->geemap) (19.0.1)\n",
      "Requirement already satisfied, skipping upgrade: tornado>=5.0 in /opt/conda/lib/python3.7/site-packages (from notebook>=4.4.1->widgetsnbextension~=3.6.5->ipywidgets<8.0.0->geemap) (6.0.4)\n",
      "Requirement already satisfied, skipping upgrade: ptyprocess>=0.5 in /opt/conda/lib/python3.7/site-packages (from pexpect; sys_platform != \"win32\"->ipython>=4.0.0; python_version >= \"3.3\"->ipywidgets<8.0.0->geemap) (0.6.0)\n",
      "Requirement already satisfied, skipping upgrade: wcwidth in /opt/conda/lib/python3.7/site-packages (from prompt-toolkit!=3.0.0,!=3.0.1,<3.1.0,>=2.0.0->ipython>=4.0.0; python_version >= \"3.3\"->ipywidgets<8.0.0->geemap) (0.2.4)\n",
      "Requirement already satisfied, skipping upgrade: parso>=0.7.0 in /opt/conda/lib/python3.7/site-packages (from jedi>=0.10->ipython>=4.0.0; python_version >= \"3.3\"->ipywidgets<8.0.0->geemap) (0.7.0)\n",
      "Requirement already satisfied, skipping upgrade: pyasn1<0.6.0,>=0.4.6 in /opt/conda/lib/python3.7/site-packages (from pyasn1-modules>=0.2.1->google-auth>=1.4.1->earthengine-api>=0.1.304->geemap) (0.5.0)\n",
      "Requirement already satisfied, skipping upgrade: protobuf!=3.20.0,!=3.20.1,!=4.21.0,!=4.21.1,!=4.21.2,!=4.21.3,!=4.21.4,!=4.21.5,<5.0.0.dev0,>=3.19.5 in /opt/conda/lib/python3.7/site-packages (from google-api-core!=2.0.*,!=2.1.*,!=2.2.*,!=2.3.0,<3.0.0.dev0,>=1.31.5->google-api-python-client>=1.12.1->earthengine-api>=0.1.304->geemap) (4.23.4)\n",
      "Requirement already satisfied, skipping upgrade: googleapis-common-protos<2.0.dev0,>=1.56.2 in /opt/conda/lib/python3.7/site-packages (from google-api-core!=2.0.*,!=2.1.*,!=2.2.*,!=2.3.0,<3.0.0.dev0,>=1.31.5->google-api-python-client>=1.12.1->earthengine-api>=0.1.304->geemap) (1.60.0)\n",
      "Requirement already satisfied, skipping upgrade: google-crc32c<2.0dev,>=1.0 in /opt/conda/lib/python3.7/site-packages (from google-resumable-media>=2.3.2->google-cloud-storage->earthengine-api>=0.1.304->geemap) (1.5.0)\n",
      "Requirement already satisfied, skipping upgrade: jsonschema!=2.5.0,>=2.4 in /opt/conda/lib/python3.7/site-packages (from nbformat->notebook>=4.4.1->widgetsnbextension~=3.6.5->ipywidgets<8.0.0->geemap) (3.2.0)\n",
      "Requirement already satisfied, skipping upgrade: testpath in /opt/conda/lib/python3.7/site-packages (from nbconvert->notebook>=4.4.1->widgetsnbextension~=3.6.5->ipywidgets<8.0.0->geemap) (0.4.4)\n",
      "Requirement already satisfied, skipping upgrade: pandocfilters>=1.4.1 in /opt/conda/lib/python3.7/site-packages (from nbconvert->notebook>=4.4.1->widgetsnbextension~=3.6.5->ipywidgets<8.0.0->geemap) (1.4.2)\n",
      "Requirement already satisfied, skipping upgrade: defusedxml in /opt/conda/lib/python3.7/site-packages (from nbconvert->notebook>=4.4.1->widgetsnbextension~=3.6.5->ipywidgets<8.0.0->geemap) (0.6.0)\n",
      "Requirement already satisfied, skipping upgrade: entrypoints>=0.2.2 in /opt/conda/lib/python3.7/site-packages (from nbconvert->notebook>=4.4.1->widgetsnbextension~=3.6.5->ipywidgets<8.0.0->geemap) (0.3)\n",
      "Requirement already satisfied, skipping upgrade: bleach in /opt/conda/lib/python3.7/site-packages (from nbconvert->notebook>=4.4.1->widgetsnbextension~=3.6.5->ipywidgets<8.0.0->geemap) (3.1.5)\n",
      "Requirement already satisfied, skipping upgrade: mistune<2,>=0.8.1 in /opt/conda/lib/python3.7/site-packages (from nbconvert->notebook>=4.4.1->widgetsnbextension~=3.6.5->ipywidgets<8.0.0->geemap) (0.8.4)\n",
      "Requirement already satisfied, skipping upgrade: attrs>=17.4.0 in /opt/conda/lib/python3.7/site-packages (from jsonschema!=2.5.0,>=2.4->nbformat->notebook>=4.4.1->widgetsnbextension~=3.6.5->ipywidgets<8.0.0->geemap) (19.3.0)\n",
      "Requirement already satisfied, skipping upgrade: pyrsistent>=0.14.0 in /opt/conda/lib/python3.7/site-packages (from jsonschema!=2.5.0,>=2.4->nbformat->notebook>=4.4.1->widgetsnbextension~=3.6.5->ipywidgets<8.0.0->geemap) (0.16.0)\n",
      "Requirement already satisfied, skipping upgrade: importlib-metadata; python_version < \"3.8\" in /opt/conda/lib/python3.7/site-packages (from jsonschema!=2.5.0,>=2.4->nbformat->notebook>=4.4.1->widgetsnbextension~=3.6.5->ipywidgets<8.0.0->geemap) (1.6.1)\n",
      "Requirement already satisfied, skipping upgrade: webencodings in /opt/conda/lib/python3.7/site-packages (from bleach->nbconvert->notebook>=4.4.1->widgetsnbextension~=3.6.5->ipywidgets<8.0.0->geemap) (0.5.1)\n",
      "Requirement already satisfied, skipping upgrade: zipp>=0.5 in /opt/conda/lib/python3.7/site-packages (from importlib-metadata; python_version < \"3.8\"->jsonschema!=2.5.0,>=2.4->nbformat->notebook>=4.4.1->widgetsnbextension~=3.6.5->ipywidgets<8.0.0->geemap) (3.1.0)\n",
      "\u001b[31mERROR: itkwidgets 0.31.3 requires itk-meshtopolydata>=0.6.2, which is not installed.\u001b[0m\n",
      "\u001b[31mERROR: comm 0.1.3 has requirement traitlets>=5.3, but you'll have traitlets 4.3.3 which is incompatible.\u001b[0m\n",
      "Installing collected packages: widgetsnbextension, comm, jupyterlab-widgets, ipywidgets\n",
      "  Attempting uninstall: widgetsnbextension\n",
      "    Found existing installation: widgetsnbextension 4.0.8\n",
      "    Uninstalling widgetsnbextension-4.0.8:\n",
      "      Successfully uninstalled widgetsnbextension-4.0.8\n",
      "  Attempting uninstall: jupyterlab-widgets\n",
      "    Found existing installation: jupyterlab-widgets 3.0.8\n",
      "    Uninstalling jupyterlab-widgets-3.0.8:\n",
      "      Successfully uninstalled jupyterlab-widgets-3.0.8\n",
      "  Attempting uninstall: ipywidgets\n",
      "    Found existing installation: ipywidgets 8.0.7\n",
      "    Uninstalling ipywidgets-8.0.7:\n",
      "      Successfully uninstalled ipywidgets-8.0.7\n",
      "Successfully installed comm-0.1.3 ipywidgets-7.8.0 jupyterlab-widgets-1.1.5 widgetsnbextension-3.6.5\n"
     ]
    }
   ],
   "source": [
    "!pip install --upgrade geemap"
   ]
  },
  {
   "cell_type": "code",
   "execution_count": 33,
   "metadata": {},
   "outputs": [],
   "source": [
    "\n",
    "\n",
    "\n",
    "# import necessary libraries\n",
    "import ee\n",
    "import geemap"
   ]
  },
  {
   "cell_type": "code",
   "execution_count": 16,
   "metadata": {},
   "outputs": [
    {
     "data": {
      "text/html": [
       "<p>To authorize access needed by Earth Engine, open the following\n",
       "        URL in a web browser and follow the instructions:</p>\n",
       "        <p><a href=https://code.earthengine.google.com/client-auth?scopes=https%3A//www.googleapis.com/auth/earthengine%20https%3A//www.googleapis.com/auth/devstorage.full_control&request_id=9BPD5H1k8RfOPRKPPfZkx3dIC69rXwm6Ny0ENfR6hI8&tc=oImhOCFJATnjkVX-GVnkyCfc24_Q7qbS4sqjNAPIRxA&cc=BH1aqTffz8-jNZE8tAR6fjryjmiEL_9o7u-RvKCesVQ>https://code.earthengine.google.com/client-auth?scopes=https%3A//www.googleapis.com/auth/earthengine%20https%3A//www.googleapis.com/auth/devstorage.full_control&request_id=9BPD5H1k8RfOPRKPPfZkx3dIC69rXwm6Ny0ENfR6hI8&tc=oImhOCFJATnjkVX-GVnkyCfc24_Q7qbS4sqjNAPIRxA&cc=BH1aqTffz8-jNZE8tAR6fjryjmiEL_9o7u-RvKCesVQ</a></p>\n",
       "        <p>The authorization workflow will generate a code, which you should paste in the box below.</p>\n",
       "        "
      ],
      "text/plain": [
       "<IPython.core.display.HTML object>"
      ]
     },
     "metadata": {},
     "output_type": "display_data"
    },
    {
     "name": "stdin",
     "output_type": "stream",
     "text": [
      "Enter verification code:  4/1AZEOvhUBRssaiw9Iew_lnQxU-wiA7cl1IiRZOP0nrWvDB8BPftYjHOUN8Gg\n"
     ]
    },
    {
     "name": "stdout",
     "output_type": "stream",
     "text": [
      "\n",
      "Successfully saved authorization token.\n"
     ]
    }
   ],
   "source": [
    "# you only need to run the first time running the notebook, or if you haven't run it in more than a week\n",
    "# comment it out once you've run it the first time\n",
    "ee.Authenticate()"
   ]
  },
  {
   "cell_type": "code",
   "execution_count": 34,
   "metadata": {},
   "outputs": [],
   "source": [
    "# initialize earth engine\n",
    "ee.Initialize()"
   ]
  },
  {
   "cell_type": "markdown",
   "metadata": {},
   "source": [
    "- __User input - event start and end dates -__ Here, we specify a date interval to search for satellite images before and after the hurricane. This must be an interval because satellite images are __NOT__ necessarily acquired on the same dates each year."
   ]
  },
  {
   "cell_type": "code",
   "execution_count": 35,
   "metadata": {},
   "outputs": [],
   "source": [
    "# Set dates for pre- and post-hurricane event\n",
    "pre_event_beg = '2017-07-15'\n",
    "pre_event_final = '2017-07-31'\n",
    "\n",
    "post_event_beg = '2017-09-19'\n",
    "post_event_final = '2017-09-25'"
   ]
  },
  {
   "cell_type": "markdown",
   "metadata": {},
   "source": [
    "## Load the polygon for the study area \"Puerto Rico\"\n",
    "\n",
    "__-->__ ***The FAO GAUL*** (Food and Agriculture Organization - Global Administrative Unit Layers) simplified 500m 2015 is a ***geospatial dataset*** that is part of the GEE collection. More information can be found here: https://developers.google.com/earth-engine/datasets/catalog/FAO_GAUL_2015_level0?hl=en\n",
    "\n",
    "This dataset contains country boundaries as well as other information. It can be loaded using the command `ee.FeatureCollection`. Then, we utilize the filtering function to examine the column `ADM0_NAME`, which contains the country name. We apply the GEE filter `Equal` using the command `ee.Filter.eq` to extract the polygon of our study area **\"Puerto Rico\"**. \n",
    "\n",
    "More information on GEE filters and how to use them can be found here: https://developers.google.com/s/results/earth-engine?q=ee.filter\n",
    "\n",
    "The specific information about the GEE filter \"equal\" and how to use it can be found here: https://developers.google.com/earth-engine/apidocs/ee-filter-eq?hl=en\n",
    "\n",
    "\n"
   ]
  },
  {
   "cell_type": "code",
   "execution_count": 36,
   "metadata": {},
   "outputs": [],
   "source": [
    "# Load the shapefile for your area of interest\n",
    "roi = ee.FeatureCollection(\"FAO/GAUL_SIMPLIFIED_500m/2015/level0\").filter(ee.Filter.eq('ADM0_NAME', 'Puerto Rico'))\n"
   ]
  },
  {
   "cell_type": "markdown",
   "metadata": {},
   "source": [
    "## Load a map and add our results\n",
    "Here, we specify the center of the map coordinates and the zoom level. This would vary depending on the study area location and size, and can be determined through trial and error. We use the command `geemap.Map` with the default Google maps as a base layer.\n",
    "    - For other locations, first determine the center coordinates, then\n",
    "    - Zoom less (smaller zoom number) for large areas, or zoom more (larger zoom number) for small areas\n",
    "\n",
    "Following that, we use the command `Map.addLayer` to display the `\"roi\"` layer , which corresponds to the polygon of Puerto Rico created in the previous step. This command allows for the selection of several display options. In our case, we only used the 'color' to assign the gray color to the polygon of our study area. More information about this command can be found here: https://developers.google.com/earth-engine/apidocs/map-addlayer?hl=en\n",
    "\n",
    "At the end, we simply use the command `Map` to actually display our output map in a separate window below the python code cell. Some general information about interactive maps and map formatting is provided below as it is used repeatedly throughout this exercise.\n",
    "\n",
    "\n",
    "__-->__ Each time we want to generate a map output, we first use the command `Map = geemap.Map(center=[18.2208, -66.5901], zoom = 9)`. This would create a new map with the default Google maps base layer showing our study area. Then we use the command `Map.addLayer` to specify which layers (results) to display and what display parameters are used (color, minimum and maximum values, etc). Finally we use the command `Map` to actually display our output map below the python code cell. \n",
    "\n",
    "__-->__ In each map window, we can zoom in and out as it is an interactive map. \n",
    "\n",
    "__-->__ Multiple layers or results can be displayed in a single map. In the **top right corner**, we see an icon showing multiple squares on top of each other (representing layers). We can hover over that icon to view and toggle which layers to display.\n",
    "\n",
    "__-->__ There are other buttons available on the left side of the map. Most of these we will not use in this exercise. They are:\n",
    "\n",
    "    The first two buttons are +/- to zoom in and out. The third button is to go **full screen**. \n",
    "    We can press `esc` to exit full screen.\n",
    "\n",
    "    The next five buttons **(not used in this exercise)** are to draw various shapes \n",
    "    (line, polygon, square/rectangle, circle, point, circle marker. \n",
    "\n",
    "    The next two buttons allow for **editing** and **deleting** existing shapes.\n",
    "\n",
    "    The last button is a map search button (similar to google maps search). "
   ]
  },
  {
   "cell_type": "code",
   "execution_count": 39,
   "metadata": {},
   "outputs": [
    {
     "data": {
      "application/vnd.jupyter.widget-view+json": {
       "model_id": "0aa0620a58e9422daa2113c7273649c6",
       "version_major": 2,
       "version_minor": 0
      },
      "text/plain": [
       "Map(center=[18.2208, -66.5901], controls=(WidgetControl(options=['position', 'transparent_bg'], widget=HBox(ch…"
      ]
     },
     "execution_count": 39,
     "metadata": {},
     "output_type": "execute_result"
    }
   ],
   "source": [
    "# Use Google maps as the default basemap & display the study area polygon on it.\n",
    "Map = geemap.Map(center=[18.2208, -66.5901], zoom = 9)\n",
    "Map.addLayer(roi, {'color': 'gray'}, 'Study Area')\n",
    "Map"
   ]
  },
  {
   "cell_type": "markdown",
   "metadata": {},
   "source": [
    "### OPTIONAL - Convert Feature-Collection to GeoPandas-Dataframe\n",
    "This can be done using the command ` geemap.ee_to_geopandas`  (example results shown below for the `roi`  layer)\n",
    "\n",
    "\n",
    "__-->__ ***Using the geemap library*** - This offers may conversion commands to and other functionality to convert data between GEE variable types to common python geospatial and other variable types. Useful information can be found here https://geemap.org/common/?h=ee_to_#geemap.common.ee_num_round"
   ]
  },
  {
   "cell_type": "code",
   "execution_count": 21,
   "metadata": {},
   "outputs": [
    {
     "data": {
      "text/html": [
       "<div>\n",
       "<style scoped>\n",
       "    .dataframe tbody tr th:only-of-type {\n",
       "        vertical-align: middle;\n",
       "    }\n",
       "\n",
       "    .dataframe tbody tr th {\n",
       "        vertical-align: top;\n",
       "    }\n",
       "\n",
       "    .dataframe thead th {\n",
       "        text-align: right;\n",
       "    }\n",
       "</style>\n",
       "<table border=\"1\" class=\"dataframe\">\n",
       "  <thead>\n",
       "    <tr style=\"text-align: right;\">\n",
       "      <th></th>\n",
       "      <th>geometry</th>\n",
       "      <th>ADM0_CODE</th>\n",
       "      <th>ADM0_NAME</th>\n",
       "      <th>DISP_AREA</th>\n",
       "      <th>EXP0_YEAR</th>\n",
       "      <th>STATUS</th>\n",
       "      <th>STR0_YEAR</th>\n",
       "      <th>Shape_Area</th>\n",
       "      <th>Shape_Leng</th>\n",
       "    </tr>\n",
       "  </thead>\n",
       "  <tbody>\n",
       "    <tr>\n",
       "      <th>0</th>\n",
       "      <td>GEOMETRYCOLLECTION (POINT (-65.56484 18.37926)...</td>\n",
       "      <td>200</td>\n",
       "      <td>Puerto Rico</td>\n",
       "      <td>NO</td>\n",
       "      <td>3000</td>\n",
       "      <td>US Territory</td>\n",
       "      <td>1000</td>\n",
       "      <td>0.763418</td>\n",
       "      <td>12.653807</td>\n",
       "    </tr>\n",
       "  </tbody>\n",
       "</table>\n",
       "</div>"
      ],
      "text/plain": [
       "                                            geometry  ADM0_CODE    ADM0_NAME  \\\n",
       "0  GEOMETRYCOLLECTION (POINT (-65.56484 18.37926)...        200  Puerto Rico   \n",
       "\n",
       "  DISP_AREA  EXP0_YEAR        STATUS  STR0_YEAR  Shape_Area  Shape_Leng  \n",
       "0        NO       3000  US Territory       1000    0.763418   12.653807  "
      ]
     },
     "execution_count": 21,
     "metadata": {},
     "output_type": "execute_result"
    }
   ],
   "source": [
    "gpd_dataframe = geemap.ee_to_geopandas(roi, selectors=None, verbose=False)\n",
    "gpd_dataframe"
   ]
  },
  {
   "cell_type": "markdown",
   "metadata": {},
   "source": [
    "## Load SAR images from the European satellite Sentinel-1.\n",
    "We do this separately before the event and then after the event for our study area. \n",
    "\n",
    "__-->__ ***The COPERNICUS/S1_GRD*** are ***satellite images from Sentinel-1*** that are part of the GEE collection. More information can be found here: https://developers.google.com/earth-engine/datasets/catalog/COPERNICUS_S1_GRD?hl=en\n",
    "\n",
    "This dataset contains historical satellite images since 2014 (ongoing satellite mission). It can be loaded using the command `ee.ImageCollection`. Then, we apply multiple filters using the command `.filter`  to select a specific SAR product, orbit, resolution, boundary, dates, and bands. More specifically:\n",
    "\n",
    "    The command \"ee.Filter.eq\" allows us to extract the \"instrument mode\" equal to \"IW\" (Interferometric Wide-swath)\n",
    "    The command \"ee.Filter.eq\" allows us to extract the \"orbit\" equal to \"Ascending\"\n",
    "    \n",
    "    The command \".filterMetadata\" allows us to extract the \"spatial resolution\" equal to \"10m\"\n",
    "    \n",
    "    The command \".filterBounds\" allows us to clip the image to our \"roi\" study area\n",
    "\n",
    "    The command \".filterDate\" allows us to extract available satellite images between a start anad end data.\n",
    "    Here, we used the dates we defined above to extract available images before and after the hurricane.\n",
    "    \n",
    "    The command \".select\" allows us to extract the \"specific bands (VV, VH)\" for this SAR product\n",
    "    \n",
    "There is a large number of filter/selection commands in GEE. More information on these commands and how to use them can be found here: https://developers.google.com/s/results/earth-engine?q=ee.filter\n",
    "\n",
    "A given study area is not necessarily covered by a single SAR image. Therefore, after extracting the available SAR images before and after the hurricane, we need to generate a single image mosaic covering our entire study area. For this, we use the command `.mosaic` and apply it to our Sentinel-1 collections before and after the hurricane. We use the command `.Clip` agaain to make have the final mosaic image clipped to our study area.   "
   ]
  },
  {
   "cell_type": "code",
   "execution_count": 22,
   "metadata": {},
   "outputs": [],
   "source": [
    "# Load Sentinel-1 C-band SAR Ground Range collection (log scale): pre-event\n",
    "S1collection_1 = ee.ImageCollection('COPERNICUS/S1_GRD') \\\n",
    "                   .filter(ee.Filter.eq('instrumentMode', 'IW')) \\\n",
    "                   .filter(ee.Filter.eq('orbitProperties_pass', 'ASCENDING')) \\\n",
    "                   .filterMetadata('resolution_meters', 'equals' , 10) \\\n",
    "                   .filterBounds(roi) \\\n",
    "                   .filterDate(pre_event_beg, pre_event_final) \\\n",
    "                   .select('VV', 'VH')\n",
    "\n",
    "# Load Sentinel-1 C-band SAR Ground Range collection (log scale): post-event\n",
    "S1collection_2 = ee.ImageCollection('COPERNICUS/S1_GRD') \\\n",
    "                   .filter(ee.Filter.eq('instrumentMode', 'IW')) \\\n",
    "                   .filter(ee.Filter.eq('orbitProperties_pass', 'ASCENDING')) \\\n",
    "                   .filterMetadata('resolution_meters', 'equals' , 10) \\\n",
    "                   .filterBounds(roi) \\\n",
    "                   .filterDate(post_event_beg, post_event_final) \\\n",
    "                   .select('VV', 'VH')\n",
    "\n",
    "# Create a mosaic for each collection\n",
    "S1_1 = S1collection_1.mosaic().clip(roi)\n",
    "S1_2 = S1collection_2.mosaic().clip(roi)"
   ]
  },
  {
   "cell_type": "markdown",
   "metadata": {},
   "source": [
    "## Preprocess the SAR images\n",
    "This step is common for SAR images. Basically, we apply a smoothing filter because SAR signal is grainy. In this case, we use the command `.focal_mean`  which calculates the average values of pixels within a certain radius **(in our case 30m)** and assign that value to the center pixel.\n",
    "\n",
    "### Load a map and add our results \n",
    "\n",
    "First, we specify the center of the map coordinates and the zoom level (same step as before).\n",
    "We use the command `geemap.Map` with the default Google maps as a base layer. \n",
    "\n",
    "Then, we add our SAR images (4 separate layers) using the command \".addLayer\" four times. \n",
    "- 1st argument represents the variable we want to add (ex: S1_1 for Sentinel-1 collection 1)\n",
    "- 2nd argument represents the visualization parameters (ex: minimum value = -25, maximum value = -5)\n",
    "The min/max values change from one image to another, so we choose fixed values for consistent colors.\n",
    "- 3rd argument is the name of the layer to be displayed on the map window.\n"
   ]
  },
  {
   "cell_type": "code",
   "execution_count": 23,
   "metadata": {},
   "outputs": [
    {
     "data": {
      "application/vnd.jupyter.widget-view+json": {
       "model_id": "6e784ba55e5347cab08ecd525eb4bad8",
       "version_major": 2,
       "version_minor": 0
      },
      "text/plain": [
       "Map(center=[18.2208, -66.5901], controls=(WidgetControl(options=['position', 'transparent_bg'], widget=HBox(ch…"
      ]
     },
     "execution_count": 23,
     "metadata": {},
     "output_type": "execute_result"
    }
   ],
   "source": [
    "# Apply speckle filter\n",
    "SMOOTHING_RADIUS = 30\n",
    "pre_event_filtered = S1_1.focal_mean(SMOOTHING_RADIUS, 'circle', 'meters')\n",
    "post_event_filtered = S1_2.focal_mean(SMOOTHING_RADIUS, 'circle', 'meters')\n",
    "\n",
    "# Add images to \"Layers\" in order to visualize them\n",
    "Map = geemap.Map(center=[18.2208, -66.5901], zoom = 9)\n",
    "Map.addLayer(S1_1, {'min':-25, 'max':-5}, 'S1-1')\n",
    "Map.addLayer(S1_2, {'min':-25, 'max':-5}, 'S1-2')\n",
    "Map.addLayer(pre_event_filtered, {'min':-25, 'max':-5}, 'S1-1-Filt')\n",
    "Map.addLayer(post_event_filtered, {'min':-25, 'max':-5}, 'S1-2-Filt')\n",
    "Map"
   ]
  },
  {
   "cell_type": "markdown",
   "metadata": {},
   "source": [
    "## Combine the SAR image bands to generate a 3-band image for visualization\n",
    "Here, we use the command `.cat` (short for concatenate) to combine the same SAR band (filtered VV or VH) and generate a 3-band image and visualize it in RGB colors. We use the command `.select` (same as before) to choose a specific band.\n",
    "\n",
    "\n",
    "### Load a map and add our results\n",
    "\n",
    "First, we specify the center of the map coordinates and the zoom level (same step as before).\n",
    "We use the command `geemap.Map` with the default Google maps as a base layer. \n",
    "\n",
    "Then, we add our SAR images (2 separate layers) using the command \".addLayer\" twice. \n",
    "- 1st argument represents the variable we want to add (new RGB images in this case).\n",
    "- 2nd argument represents the visualization parameters (different values for VV and VH RGB images).\n",
    "- 3rd argument is the name of the layer to be displayed on the map window.\n"
   ]
  },
  {
   "cell_type": "code",
   "execution_count": 24,
   "metadata": {},
   "outputs": [
    {
     "data": {
      "application/vnd.jupyter.widget-view+json": {
       "model_id": "8ad3e8297af04527826d02b769c0c54c",
       "version_major": 2,
       "version_minor": 0
      },
      "text/plain": [
       "Map(center=[18.2208, -66.5901], controls=(WidgetControl(options=['position', 'transparent_bg'], widget=HBox(ch…"
      ]
     },
     "execution_count": 24,
     "metadata": {},
     "output_type": "execute_result"
    }
   ],
   "source": [
    "# Create RGB images\n",
    "S1_VV_RGB = ee.Image.cat(pre_event_filtered.select('VV'), post_event_filtered.select('VV'), pre_event_filtered.select('VV'))\n",
    "S1_VH_RGB = ee.Image.cat(pre_event_filtered.select('VH'), post_event_filtered.select('VH'), pre_event_filtered.select('VH'))\n",
    "\n",
    "# Add images to \"Layers\" in order to visualize them\n",
    "Map = geemap.Map(center=[18.2208, -66.5901], zoom = 9)\n",
    "Map.addLayer(S1_VV_RGB, {'min':-18, 'max':0}, 'S1-VV-RGB')\n",
    "Map.addLayer(S1_VH_RGB, {'min':-25, 'max':-5}, 'S1-VH-RGB')\n",
    "Map"
   ]
  },
  {
   "cell_type": "markdown",
   "metadata": {},
   "source": [
    "## Compare before and after hurricane images\n",
    "We compute the ratio between the before and after images\n",
    "\n",
    "\n",
    "### Load a map and add our results \n",
    "\n",
    "First, we specify the center of the map coordinates and the zoom level (same step as before).\n",
    "We use the command `geemap.Map` with the default Google maps as a base layer. \n",
    "\n",
    "Then, we add our SAR difference image layer using the command \".addLayer\". \n",
    "- 1st argument represents the variable we want to add (new difference image in this case).\n",
    "- 2nd argument represents the visualization parameters (min & max values).\n",
    "- 3rd argument is the name of the layer to be displayed on the map window.\n",
    "\n",
    "\n",
    "## Apply a threshold to the SAR difference image \n",
    "This is also a common practice in image analysis. This way, we separate flooded areas and produce a binary image (1 and 0 values). These values represent SAR difference within our threshold interval or outside our threshold interval. We use the command `.gt`  which stands for \"Greater-Than\" and the command `.lt`  which stands for \"Less-Than\".\n",
    "\n",
    "\n",
    "### Load a map and add our results\n",
    "\n",
    "Because we are loading this result in the same map, we do NOT specify center coordinates and zoom again.\n",
    "\n",
    "Then, we add our SAR difference image layer using the command \".addLayer\". \n",
    "- 1st argument represents the variable we want to add (new difference image in this case).\n",
    "Here, we used the binary inundation image as a mask \".updateMask\" to display only the values = 1\n",
    "- 2nd argument represents the visualization parameters (color palette \"Green-Blue\" or GnBu in this case).\n",
    "- 3rd argument is the name of the layer to be displayed on the map window."
   ]
  },
  {
   "cell_type": "code",
   "execution_count": 25,
   "metadata": {},
   "outputs": [
    {
     "data": {
      "application/vnd.jupyter.widget-view+json": {
       "model_id": "f6a7bcb70342409da220f0a4bd97766f",
       "version_major": 2,
       "version_minor": 0
      },
      "text/plain": [
       "Map(center=[18.2208, -66.5901], controls=(WidgetControl(options=['position', 'transparent_bg'], widget=HBox(ch…"
      ]
     },
     "execution_count": 25,
     "metadata": {},
     "output_type": "execute_result"
    }
   ],
   "source": [
    "# Compute ratio between before and after images\n",
    "differenceVH = post_event_filtered.select('VH').divide(pre_event_filtered.select('VH'))\n",
    "\n",
    "# Add images to \"Layers\" in order to visualize them\n",
    "Map = geemap.Map(center=[18.2208, -66.5901], zoom = 9)\n",
    "Map.addLayer(differenceVH, {'min': 0, 'max':2}, 'difference VH filtered')\n",
    "\n",
    "# Apply a threshold - based on difference image values\n",
    "UPPER_THRESHOLD = 1.15\n",
    "LOWER_THRESHOLD = 0.7\n",
    "inundation1 = differenceVH.gt(UPPER_THRESHOLD).Or(differenceVH.lt(LOWER_THRESHOLD))\n",
    "\n",
    "# Add images to \"Layers\" in order to visualize them\n",
    "Map.addLayer(inundation1.updateMask(inundation1),\n",
    "             {'palette':\"GnBu\"},'Flooded Areas - RAW')\n",
    "Map"
   ]
  },
  {
   "cell_type": "markdown",
   "metadata": {},
   "source": [
    "## Calculate pixel connectivity and remove isolated pixels\n",
    "Isolated pixels are most likely outliers that should be removed. We do this in two steps:\n",
    "\n",
    "- Calculate connected pixels count using the command \".connectedPixelCount\".\n",
    "This is applied to the original inundation image.\n",
    "- Generate a new binary innundation image that excludes small patches from the previous inundation image.\n",
    "This is done by excluding pixels that are connected to less than 8 other pixels.  \n",
    "For this, we use the command \".updateMask\" and combine it with the filter \".gte\" (Greater-Than-or-Equal) \n",
    "\n",
    "\n",
    "### Load a new blank map and add our results\n",
    "Here, we display the study area polygon to have better contrast when visualizing the flooded area results.\n",
    "\n",
    "- First, we set the map center coordinates and zoom level (same step as before).\n",
    "- Add \"roi\" layer (color gray)\n",
    "- Add the new \"inundation\" layer with no isolated pixels (color palette \"GnBu\"). \n",
    "The new binary inundation image is used as a mask with the command `.updateMask` \n"
   ]
  },
  {
   "cell_type": "code",
   "execution_count": 26,
   "metadata": {},
   "outputs": [
    {
     "data": {
      "application/vnd.jupyter.widget-view+json": {
       "model_id": "6cdc47a53d5c426cacf055eea25ec6be",
       "version_major": 2,
       "version_minor": 0
      },
      "text/plain": [
       "Map(center=[18.2208, -66.5901], controls=(WidgetControl(options=['position', 'transparent_bg'], widget=HBox(ch…"
      ]
     },
     "execution_count": 26,
     "metadata": {},
     "output_type": "execute_result"
    }
   ],
   "source": [
    "# Calculate pixel connectivity and remove those connected by less than 8 pixels.\n",
    "connections = inundation1.connectedPixelCount()\n",
    "inundation2 = inundation1.updateMask(connections.gte(8))\n",
    "\n",
    "# Add images to \"Layers\" in order to visualize them\n",
    "Map = geemap.Map(center=[18.2208, -66.5901], zoom = 9)\n",
    "Map.addLayer(roi, {'color': 'gray'}, 'Study Area')\n",
    "Map.addLayer(inundation2.updateMask(inundation2), {'palette':\"GnBu\"},'Flooded Areas - non-sparse')\n",
    "Map"
   ]
  },
  {
   "cell_type": "markdown",
   "metadata": {},
   "source": [
    "## Remove misclassified pixel where the slope is higher than 5%\n",
    "Water collection in slopes higher than 5% is unlikely since it flows downhill, and means that these inundated pixels are most likely misclassified and should be removed. To do this, we need to load a new dataset: **Digital Elevation Model (DEM)** and compute the slope. Then we can use the slope to mask out areas with values higher than 5%.\n",
    "\n",
    "__-->__ ***USGS/SRTMGL1_003*** global elevation raster image is part of the GEE collection. More information can be found here: https://developers.google.com/earth-engine/datasets/catalog/USGS_SRTMGL1_003?hl=en\n",
    "\n",
    "- Load the global elevation data using the command \"ee.Image\"\n",
    "- Use the GEE algorithms \"terrain to compute slope, aspect, and hillshade using the DEM\n",
    "\n",
    "__-->__ ` ee.Algorithms`  is a collection of image analysis and data processing functions. These can be general mathematical functions or functions that are specific product (satellite image or geospatial dataset). More information about the specific **terrain** algorithm can be found here: https://developers.google.com/earth-engine/apidocs/ee-algorithms-terrain?hl=en\n",
    "\n",
    "- Select the \"slope\" layer from the terrain results using the command `.select`\n",
    "- Generate a new binary innundation image that excludes slopes > 5%.\n",
    "This is done using the command \".updateMask\" combined with the command `.lt` which stands for Less-Than. \n",
    "\n",
    "\n",
    "### Load a new blank map and add our results\n",
    "Here, we display the study area polygon to have better contrast when visualizing the flooded area results.\n",
    "\n",
    "- First, we set the map center coordinates and zoom level (same step as before).\n",
    "- Add the \"DEM\" layer (specific min/max values)\n",
    "- Add \"roi\" layer (color gray)\n",
    "- Add the new \"inundation-slope-corrected\" layer (color palette `GnBu` (Green-Blue))\n",
    "The new binary inundation image is used as a mask with the command `.updateMask` \n"
   ]
  },
  {
   "cell_type": "code",
   "execution_count": 27,
   "metadata": {},
   "outputs": [
    {
     "data": {
      "application/vnd.jupyter.widget-view+json": {
       "model_id": "2919557a223d44f5b62b5e1f6eda3f2a",
       "version_major": 2,
       "version_minor": 0
      },
      "text/plain": [
       "Map(center=[18.2208, -66.5901], controls=(WidgetControl(options=['position', 'transparent_bg'], widget=HBox(ch…"
      ]
     },
     "execution_count": 27,
     "metadata": {},
     "output_type": "execute_result"
    }
   ],
   "source": [
    "# Remove misclassified pixels in areas with slopes greater than 5%\n",
    "srtm = ee.Image('USGS/SRTMGL1_003')\n",
    "terrain = ee.Algorithms.Terrain(srtm)\n",
    "slope = terrain.select('slope')\n",
    "inundation3 = inundation2.updateMask(slope.lt(5))\n",
    "\n",
    "# Add images to \"Layers\" in order to visualize them\n",
    "Map = geemap.Map(center=[18.2208, -66.5901], zoom = 9)\n",
    "Map.addLayer(srtm, {'min':0, 'max':1000}, 'SRTM')\n",
    "Map.addLayer(roi, {'color': 'gray'}, 'Study Area')\n",
    "Map.addLayer(inundation3.updateMask(inundation3),{'palette':\"GnBu\"},'Flooded Areas - slope-adjusted')\n",
    "Map"
   ]
  },
  {
   "cell_type": "markdown",
   "metadata": {},
   "source": [
    "- **Calculate inundation extent** - First, we multiply the latest binary inundation image by the pixel area value. For this, we use the command `.multiply`  and combine it with the function `ee.Image.pixelArea`  (described below).\n",
    "\n",
    "__-->__ ` ee.Image.pixelArea`  is function that Generate an image in which the value of each pixel is the area of that pixel in square meters. The returned image has a single band called **area** (https://developers.google.com/earth-engine/apidocs/ee-image-pixelarea?hl=en).\n",
    "\n",
    "\n",
    "- __Calculate the total area of inundated pixels -__ Here, we use the function `.reduceRegion`  to compute the sum (area) of all the inundated pixels.\n",
    "\n",
    "__-->__ ` ee.Image.reduceRegion`  is function that Apply a reducer to all the pixels in a specific region. A reducer is a statistical metric such as **mean, median, standard deviation, etc.** This function allows for several other options which can be seen using this link: https://developers.google.com/earth-engine/apidocs/ee-image-reduceregion?hl=en\n",
    "\n",
    "The options used in this example are:\n",
    "\n",
    "- `reducer = ee.Reducer.sum()` --> to select the Sum statistics \n",
    "- `geometry = roi` --> to limit the extent to our study area\n",
    "- `scale = 10` --> which corresponds to our SAR image native spatial resolution\n",
    "- `maxPixels = 1e9` --> this option is commented out. \n",
    "It is used to request that GEE processess a larger number of pixels.\n",
    "The request is not always possible to do because GEE has some limits on processing power and request size.\n",
    "- `bestEffort = True` --> is set to reduce the processing time.\n"
   ]
  },
  {
   "cell_type": "code",
   "execution_count": 14,
   "metadata": {},
   "outputs": [],
   "source": [
    "# Calculate inundation extent. Create a raster that contains information on pixel area\n",
    "inundation_area_pixel = inundation3.multiply(ee.Image.pixelArea())\n",
    "\n",
    "# Sum the area covered by inundated pixels\n",
    "# 'bestEffort: True' to reduce processing time. Note - for more accurate results set\n",
    "# bestEffort to False and increase 'maxPixels'.\n",
    "inundation_stats = inundation_area_pixel.reduceRegion(\n",
    "                                         reducer= ee.Reducer.sum(),\n",
    "                                         geometry= roi,\n",
    "                                         scale= 10, # native resolution\n",
    "                                        #  maxPixels= 1e9,\n",
    "                                         bestEffort= True)\n"
   ]
  },
  {
   "cell_type": "markdown",
   "metadata": {},
   "source": [
    "## Convert inundated area to hectares\n",
    "We use the `inundated_stats`  variable (type dictionary) from the previous step. \n",
    "\n",
    "__-->__ The function `.getNumber`  may be applied to different types of datasets/variables as can be seen here https://developers.google.com/s/results/earth-engine?hl=en&q=getNumber\n",
    "\n",
    "The function `Dictionary.getNumber`  is used in this case requires one argument, which is the `key`  (value \"VH\").\n",
    "\n",
    "Then, we use the function `.divide`  and the value 10000, which like the name indicates divides the input value (inundation_stats), which is in square meters, by 10000 to get the result in hectares.\n",
    "\n",
    "Finally, we use the function `.round`  to round up the result in hectares.\n",
    "\n",
    "\n",
    "### Print the results to display\n",
    "Here, we simply use the python `print`  command. To obtain the actual value (hectares), we must use the GEE command `.getInfo()`  as seen below. Additionally, the result is an integer that must be converted to a python string for printing using the command ` str()` \n"
   ]
  },
  {
   "cell_type": "code",
   "execution_count": 15,
   "metadata": {},
   "outputs": [
    {
     "name": "stdout",
     "output_type": "stream",
     "text": [
      "Calculation result --> Estimated flood extent from Hurricane Maria:\n",
      " 33121 Hectares\n"
     ]
    }
   ],
   "source": [
    "# Convert inundated extent to hectares\n",
    "inundation_area_ha = inundation_stats \\\n",
    "                          .getNumber(\"VH\") \\\n",
    "                          .divide(10000) \\\n",
    "                          .round()\n",
    "\n",
    "# print the results to display\n",
    "print(f'Calculation result --> Estimated flood extent from Hurricane Maria:\\n {inundation_area_ha.getInfo()} Hectares')"
   ]
  },
  {
   "cell_type": "markdown",
   "metadata": {},
   "source": [
    "# Analysis of Multispectral imaging from Sentinel-2\n",
    "## Create a function for cloud masking specific to Sentinel-2 images\n",
    "This function is simply converted from Javascript syntax to python. It already exists on GEE documentation here https://developers.google.com/earth-engine/datasets/catalog/COPERNICUS_S2?hl=en#bands\n",
    "\n",
    "In summary, we can use the **pixel quality (QA) band** of a Sentinel-2 image to identify **cloudy pixels** and mask them out. (The QA band varies from one satellite to another and a different function would be needed for each one). For Sentinel-2, we use the band ` QA10`  and the data-bits 10 and 11 to identify clouds and cirrus pixels. We create a mask by using the command `.bitwiseAnd`  and the filter `.eq`  to identify pixels where the data bits 10 and 11 are equal to Zero. Finally, the cloud mask is applied to the input image of the function (which would be a Sentinel-2 image) using the command `.updateMask`  and the result is divided by 10000 to rescale the reflectance values.\n",
    "\n",
    "### Set visualization parameters for S2 imagery\n",
    "This is done by creating a dictionary with keys representing different parameters and the values of each key is assigned by the user. In this example we define the following map visualization parameters (specifically for Sentinel-2 images:\n",
    "     \n",
    "- The selected bands are B4, B3, and B2 (represent Red, Green, and Blue)\n",
    "- The minimum and maximum reflectance values of 0, and 0.4 (two different parameters)\n",
    "- Gamma values of 0.98, 1.1 and 1 for the respective bands\n"
   ]
  },
  {
   "cell_type": "code",
   "execution_count": 16,
   "metadata": {},
   "outputs": [],
   "source": [
    "# Function to mask clouds using the Sentinel-2 QA band\n",
    "def maskS2clouds(image):\n",
    "    qa = image.select('QA60')\n",
    "\n",
    "    # Bits 10 and 11 are clouds and cirrus, respectively.\n",
    "    cloudBitMask = 1 << 10\n",
    "    cirrusBitMask = 1 << 11\n",
    "\n",
    "    # Both flags should be set to zero, indicating clear conditions.\n",
    "    mask = qa.bitwiseAnd(cloudBitMask).eq(0) \\\n",
    "            .And(qa.bitwiseAnd(cirrusBitMask).eq(0))\n",
    "\n",
    "    return image.updateMask(mask).divide(10000)\n",
    "\n",
    "# Set visualization parameters for S2 imagery\n",
    "vizParams = {\n",
    "  'bands': ['B4', 'B3', 'B2'],\n",
    "  'min': 0,\n",
    "  'max': 0.4,\n",
    "  'gamma': [0.98, 1.1, 1]\n",
    "}"
   ]
  },
  {
   "cell_type": "markdown",
   "metadata": {},
   "source": [
    "## Load post-hurricane Sentinel-2 Top-Of-Atmosphere (TOA) imagery\n",
    "We do this separately before the event and then after the event for our study area. \n",
    "\n",
    "__-->__ ***The COPERNICUS/S1_GRD*** are ***satellite images from Sentinel-2*** that are part of the GEE collection. More information can be found here: https://developers.google.com/earth-engine/datasets/catalog/COPERNICUS_S2?hl=en#description\n",
    "\n",
    "This dataset contains historical satellite images since 2015 (ongoing satellite mission). It can be loaded using the command `ee.ImageCollection`. Then, we apply multiple filters using the command `.filter`  to select a specific cloud percentage threshold, dates, and boundary. More specifically:\n",
    "\n",
    "The command `ee.Filter.lt` allows us to select images with cloud cover less-than 10%\n",
    "\n",
    "The command `.filterDate` allows us to extract available satellite images between a start anad end data.\n",
    "Here, we used `2017-10-01 to 2018-10-31` time series to minimize data gap caused by cloudy pixels.\n",
    "\n",
    "The command `.filterBounds` allows us to clip the image to our \"roi\" study area\n",
    "\n",
    "The command `.map` allows us to apply the cloud masking function (defined above) to remove cloudy pixels\n",
    "\n",
    "\n",
    "### Calculate the median pixel value from the Sentinel-2 time series \n",
    "This is done using the command `.median()`  applied to the time series variable. Next, we clip the median image using the `.clip`  command and our study area polygon variable ` (roi)`  that was created in a previous step. \n",
    "\n",
    "\n",
    "### Load a new blank map and add our results\n",
    "\n",
    "- First, we set the map center coordinates and zoom level (same step as before).\n",
    "- Add the \"median image\" layer using the visualization parameters defined in the previous step.\n"
   ]
  },
  {
   "cell_type": "code",
   "execution_count": 17,
   "metadata": {},
   "outputs": [
    {
     "data": {
      "application/vnd.jupyter.widget-view+json": {
       "model_id": "b959ad88a6464cd68d069dd71b790869",
       "version_major": 2,
       "version_minor": 0
      },
      "text/plain": [
       "Map(center=[18.2208, -66.5901], controls=(WidgetControl(options=['position', 'transparent_bg'], widget=HBox(ch…"
      ]
     },
     "execution_count": 17,
     "metadata": {},
     "output_type": "execute_result"
    }
   ],
   "source": [
    "# Create a variable for post-hurricane Sentinel-2 TOA imagery\n",
    "# and filter by cloud cover (<10%), date, roi, and apply cloud mask\n",
    "post_Maria = ee.ImageCollection('COPERNICUS/S2') \\\n",
    "               .filter(ee.Filter.lt('CLOUDY_PIXEL_PERCENTAGE', 10)) \\\n",
    "               .filterDate('2017-10-01', '2018-10-31') \\\n",
    "               .filterBounds(roi) \\\n",
    "               .map(maskS2clouds)\n",
    "\n",
    "# Take median pixel value from time series and add as a Layer\n",
    "medianpixels1 = post_Maria.median()\n",
    "medianpixelsclipped1 = medianpixels1.clip(roi)\n",
    "Map = geemap.Map(center=[18.2208, -66.5901], zoom = 9)\n",
    "Map.addLayer(medianpixelsclipped1, vizParams, 'Post-Maria S2')\n",
    "Map"
   ]
  },
  {
   "cell_type": "markdown",
   "metadata": {},
   "source": [
    "- **Repeat the previous step to load pre-hurricane Sentinel-2 Top-Of-Atmosphere (TOA) imagery** - This time, we use a different dates interval for the time series: '2015-08-31', '2017-08-31'. The only other change is the variable names."
   ]
  },
  {
   "cell_type": "code",
   "execution_count": 18,
   "metadata": {},
   "outputs": [
    {
     "data": {
      "application/vnd.jupyter.widget-view+json": {
       "model_id": "cccbd128c4f446e78001c5b27866bd38",
       "version_major": 2,
       "version_minor": 0
      },
      "text/plain": [
       "Map(center=[18.2208, -66.5901], controls=(WidgetControl(options=['position', 'transparent_bg'], widget=HBox(ch…"
      ]
     },
     "execution_count": 18,
     "metadata": {},
     "output_type": "execute_result"
    }
   ],
   "source": [
    "# Create a variable for pre-hurricane Sentinel-2 TOA imagery\n",
    "# and filter by cloud cover (<10%), date, roi, and apply cloud mask\n",
    "pre_Maria = ee.ImageCollection('COPERNICUS/S2') \\\n",
    "              .filter(ee.Filter.lt('CLOUDY_PIXEL_PERCENTAGE', 10)) \\\n",
    "              .filterDate('2015-08-31', '2017-08-31') \\\n",
    "              .filterBounds(roi) \\\n",
    "              .map(maskS2clouds)\n",
    "\n",
    "# Take median pixel value from time series and add as a Layer\n",
    "medianpixels2 = pre_Maria.median()\n",
    "medianpixelsclipped2 = medianpixels2.clip(roi)\n",
    "Map = geemap.Map(center=[18.2208, -66.5901], zoom = 9)\n",
    "Map.addLayer(medianpixelsclipped2, vizParams, 'Pre-Maria S2')\n",
    "Map"
   ]
  },
  {
   "cell_type": "markdown",
   "metadata": {},
   "source": [
    "## Calculate post-hurricane NDVI image\n",
    "The formula for NDVI (Normalized Difference Vegetation Index) is: \n",
    "\n",
    "$$\\frac{(NIR - Red)}{(NIR + Red)}$$\n",
    "\n",
    "This is done using the command `.normalizedDifference`  and the bands ` B8`  (Near InfraRed or NIR) and ` B4`  (Red) as input. More information on this function can be found here https://developers.google.com/earth-engine/apidocs/ee-image-normalizeddifference?hl=en\n",
    "\n",
    "__--> What is an index (in Remote Sensing)?__ An index is a formula computed with the data from multi-spectral imagery bands. The values of these indices can be used to identify different types of material. NDVI is a common one used for identifying vegetation. For a list of common indices used, see the [index database](https://www.indexdatabase.de/). You can see all of the indexes that can be calculated from Sentinel-2A data in [this page](https://www.indexdatabase.de/db/is.php?sensor_id=96)\n",
    "\n",
    "- **Set visualization parameters for NDVI images** - This is done by creating a dictionary with keys representing different parameters and the values of each key is assigned by the user. In this example we define the following map visualization parameters (specifically for Sentinel-2 images:\n",
    "\n",
    "      - The minimum and maximum reflectance values of -0.2, and 0.8 (two different parameters)\n",
    "      - Select a custom color palette with ['blue', 'white', 'yellow', 'green']\n",
    "\n",
    "- **clip the NDVI image** using the `.clip`  command and our study area polygon variable ` (roi)`  that was created in a previous step. \n",
    "\n",
    "\n",
    "- __Load a new blank map and add our results__\n",
    "\n",
    "      - First, we set the map center coordinates and zoom level (same step as before).\n",
    "      - Add the \"NDVI\" layer using the new visualization parameters defined in this step.\n"
   ]
  },
  {
   "cell_type": "code",
   "execution_count": 19,
   "metadata": {},
   "outputs": [
    {
     "data": {
      "application/vnd.jupyter.widget-view+json": {
       "model_id": "b691f9deb2e64895932496885bf51705",
       "version_major": 2,
       "version_minor": 0
      },
      "text/plain": [
       "Map(center=[18.2208, -66.5901], controls=(WidgetControl(options=['position', 'transparent_bg'], widget=HBox(ch…"
      ]
     },
     "execution_count": 19,
     "metadata": {},
     "output_type": "execute_result"
    }
   ],
   "source": [
    "# Create post-hurricane NDVI\n",
    "post_ndvi = medianpixels1.normalizedDifference(['B8', 'B4'])\n",
    "\n",
    "# Set visualization parameters for NDVI\n",
    "visParams_ndvi = {'min': -0.2, 'max': 0.8, 'palette': ['blue', 'white', 'yellow', 'green']}\n",
    "\n",
    "# Clip post-hurricane NDVI to roi\n",
    "post_ndvi_clip = post_ndvi.clip(roi)\n",
    "\n",
    "# Add post-hurricane NDVI as a Layer\n",
    "Map = geemap.Map(center=[18.2208, -66.5901], zoom = 9)\n",
    "Map.addLayer(post_ndvi_clip, visParams_ndvi, 'Post-Maria NDVI')\n",
    "Map"
   ]
  },
  {
   "cell_type": "markdown",
   "metadata": {},
   "source": [
    "### Repeat the previous step to create pre-hurricane NDVI image\n",
    "This time, we use the pre-hurricane time series median image as input. The only other change is the variable names. The same visualization parameters defined in the previous step are used."
   ]
  },
  {
   "cell_type": "code",
   "execution_count": 20,
   "metadata": {},
   "outputs": [
    {
     "data": {
      "application/vnd.jupyter.widget-view+json": {
       "model_id": "89f4413bf3344769a342f999c3d066b4",
       "version_major": 2,
       "version_minor": 0
      },
      "text/plain": [
       "Map(center=[18.2208, -66.5901], controls=(WidgetControl(options=['position', 'transparent_bg'], widget=HBox(ch…"
      ]
     },
     "execution_count": 20,
     "metadata": {},
     "output_type": "execute_result"
    }
   ],
   "source": [
    "# Create pre-hurricane NDVI\n",
    "pre_ndvi = medianpixels2.normalizedDifference(['B8', 'B4'])\n",
    "pre_ndvi_clip = pre_ndvi.clip(roi)\n",
    "\n",
    "# Add pre-hurricane NDVI as a Layer\n",
    "Map = geemap.Map(center=[18.2208, -66.5901], zoom = 9)\n",
    "Map.addLayer(pre_ndvi_clip, visParams_ndvi, 'Pre-Maria NDVI')\n",
    "Map"
   ]
  },
  {
   "cell_type": "markdown",
   "metadata": {},
   "source": [
    "## Manually computing the index\n",
    "__-->__ The **normalized difference** form $\\frac{x-y}{x+y}$ is common enough that `ee` provides a function for it. However, you can also manually compute an index using the `.add, .subtract, .multiply` and `.divide` functions with the respective bands. This is useful when calculating more complex index formulae. Here we show how to manually compute the **NDVI**, and we can see that we get the same result."
   ]
  },
  {
   "cell_type": "code",
   "execution_count": 21,
   "metadata": {},
   "outputs": [
    {
     "data": {
      "application/vnd.jupyter.widget-view+json": {
       "model_id": "998a9a469d1c423287e8191fbbc34446",
       "version_major": 2,
       "version_minor": 0
      },
      "text/plain": [
       "Map(center=[18.2208, -66.5901], controls=(WidgetControl(options=['position', 'transparent_bg'], widget=HBox(ch…"
      ]
     },
     "execution_count": 21,
     "metadata": {},
     "output_type": "execute_result"
    }
   ],
   "source": [
    "manual_post_ndvi = medianpixels1.select('B8')\\\n",
    "                                .subtract(medianpixels1.select('B4'))\\\n",
    "                                .divide(medianpixels1.select('B8')\\\n",
    "                                        .add(medianpixels1.select('B4'))).clip(roi)\n",
    "\n",
    "Map = geemap.Map(center=[18.2208, -66.5901], zoom = 9)\n",
    "Map.addLayer(manual_post_ndvi, visParams_ndvi, 'Post-Maria NDVI - manual computation')\n",
    "Map"
   ]
  },
  {
   "cell_type": "markdown",
   "metadata": {},
   "source": [
    "## Calculate NDVI difference\n",
    "We use the command `.subtract`  applied to the pre-hurricane NDVI image and subtract from it the post-hurricane NDVI image. \n",
    "\n",
    "\n",
    "### Load a new blank map and add our results\n",
    "\n",
    "- First, we set the map center coordinates and zoom level (same step as before).\n",
    "- Add the \"NDVI difference\" layer using visualization parameters specifically defined in this step.\n",
    "  * min, max values of -0.2 and 0.2; everything below -0.2 is mapped to the min value, and everything above 0.2 is mapped to the max\n",
    "  * a custom color palette with ['red', 'yellow', 'green']: min value is visualized as red, max is as gree, and linearly interpolated in between\n"
   ]
  },
  {
   "cell_type": "code",
   "execution_count": 22,
   "metadata": {},
   "outputs": [
    {
     "data": {
      "application/vnd.jupyter.widget-view+json": {
       "model_id": "e9980ea42eb94064abdb065f24322cb3",
       "version_major": 2,
       "version_minor": 0
      },
      "text/plain": [
       "Map(center=[18.2208, -66.5901], controls=(WidgetControl(options=['position', 'transparent_bg'], widget=HBox(ch…"
      ]
     },
     "execution_count": 22,
     "metadata": {},
     "output_type": "execute_result"
    }
   ],
   "source": [
    "# Create NDVI Difference Map\n",
    "NDVI_diff = post_ndvi_clip.subtract(pre_ndvi_clip)\n",
    "\n",
    "# Add NDVI difference as a Layer\n",
    "Map = geemap.Map(center=[18.2208, -66.5901], zoom = 9)\n",
    "Map.addLayer(NDVI_diff, {'min': -0.2, 'max': 0.2, 'palette': ['red', 'yellow', 'green']}, 'NDVI Difference')\n",
    "Map"
   ]
  },
  {
   "cell_type": "markdown",
   "metadata": {},
   "source": [
    "## Estimating number of people affected by flooding\n",
    "### Load the JRC Global Human Settlement Popluation Density layer (250m)\n",
    "This layer provides an estimate of the number of people per cell - This is done using the command ` ee.Image`. Then, we clip the image using our study area polygon ` roi`.\n",
    "\n",
    "\n",
    "__-->__ **The JRC Global Human Settlement Popluation Density layer** is part of the GEE collection. More information can be found here: https://developers.google.com/earth-engine/datasets/catalog/JRC_GHSL_P2016_POP_GPW_GLOBE_V1?hl=en\n",
    "\n",
    "\n",
    "### Exclude population outside non-flooded areas\n",
    "Here, we use the command `.updateMask` with our inundation mask to exclude non-flooded pixels.\n",
    "\n",
    "\n",
    "### Calculate the total population affected by inundation\n",
    "Here, we use the function `.reduceRegion`  to compute the sum (area) of all the inundated pixels. The options used in this example are:\n",
    "\n",
    "- `reducer = ee.Reducer.sum()` --> to select the Sum statistics \n",
    "- `geometry = roi` --> to limit the extent to our study area\n",
    "- `scale = 250` --> which corresponds to the population layer spatial resolution in meters\n",
    "- `maxPixels = 1e9` --> is the maximum number of pixels to consider in this GEE request\n",
    "\n",
    "### print the results to display\n",
    "Here, we simply use the python print command. To obtain the actual value (population), we must use the GEE command `.getInfo()` as seen below."
   ]
  },
  {
   "cell_type": "code",
   "execution_count": 23,
   "metadata": {},
   "outputs": [
    {
     "name": "stdout",
     "output_type": "stream",
     "text": [
      "Calculation result --> Estimated Exposed population from Hurricane Maria:\n",
      "10970\n"
     ]
    }
   ],
   "source": [
    "# Import JRC Global Human Settlement Popluation Density layer (250m) - number of people per cell\n",
    "population_count = ee.Image('JRC/GHSL/P2016/POP_GPW_GLOBE_V1/2015').clip(roi)\n",
    "\n",
    "# Create a raster showing exposed population only using the resampled flood layer\n",
    "population_exposed = population_count.updateMask(inundation3).updateMask(population_count)\n",
    "\n",
    "# Sum pixel values of exposed population raster\n",
    "stats = population_exposed.reduceRegion(reducer= ee.Reducer.sum(),\n",
    "                                        geometry= roi,\n",
    "                                        scale= 250,\n",
    "                                        maxPixels=1e9)\n",
    "\n",
    "# Get number of exposed people as integer\n",
    "number_pop_exposed = stats.getNumber('population_count').round()\n",
    "print(f'Calculation result --> Estimated Exposed population from Hurricane Maria:\\n{number_pop_exposed.getInfo()}')"
   ]
  },
  {
   "cell_type": "markdown",
   "metadata": {},
   "source": [
    "## Estimate effect of flooding on land usage type\n",
    "### Load the Copernicus Global Land Service (CGLS) land cover (100m)\n",
    "This is done using the command `ee.Image`. Then, we select the band `discrete classification` (which provides integer values representing the different land cover categories). Finally, we clip the image using our study area polygon `roi`.\n",
    "\n",
    "\n",
    "__-->__ **The Copernicus Global Land Service (CGLS) land cover (100m) layer** is part of the GEE collection. More information can be found here: https://developers.google.com/earth-engine/datasets/catalog/COPERNICUS_Landcover_100m_Proba-V-C3_Global?hl=en\n",
    "\n",
    "\n",
    "### Load a new blank map and add our results\n",
    "- First, we set the map center coordinates and zoom level (same step as before).\n",
    "- Add the \"NDVI difference\" layer using the default visualization parameters \"empty dictionary {}\"\n"
   ]
  },
  {
   "cell_type": "code",
   "execution_count": 24,
   "metadata": {},
   "outputs": [
    {
     "data": {
      "application/vnd.jupyter.widget-view+json": {
       "model_id": "31ee758f23f94f2c943f2ade5f5a7575",
       "version_major": 2,
       "version_minor": 0
      },
      "text/plain": [
       "Map(center=[18.2208, -66.5901], controls=(WidgetControl(options=['position', 'transparent_bg'], widget=HBox(ch…"
      ]
     },
     "execution_count": 24,
     "metadata": {},
     "output_type": "execute_result"
    }
   ],
   "source": [
    "# Create a variable for Copernicus Global Land Service (CGLS) land cover (100m)\n",
    "# Clip land cover to roi and add as a Layer\n",
    "lc = ee.Image(\"COPERNICUS/Landcover/100m/Proba-V-C3/Global/2019\") \\\n",
    "       .select('discrete_classification').clip(roi)\n",
    "\n",
    "# Add pre-hurricane NDVI as a Layer\n",
    "Map = geemap.Map(center=[18.2208, -66.5901], zoom = 9)\n",
    "Map.addLayer(lc, {}, \"Land Cover\")\n",
    "Map"
   ]
  },
  {
   "cell_type": "markdown",
   "metadata": {},
   "source": [
    "To get a sense of what each classification represents, you can get their `properties` using the `.get` function. Here we construct a dictionary of the class id's and their descriptions from the dataset's [various properties](https://developers.google.com/earth-engine/datasets/catalog/COPERNICUS_Landcover_100m_Proba-V-C3_Global?hl=en#image-properties)"
   ]
  },
  {
   "cell_type": "code",
   "execution_count": 25,
   "metadata": {},
   "outputs": [
    {
     "data": {
      "text/plain": [
       "{0: 'Unknown. No or not enough satellite data available.',\n",
       " 20: 'Shrubs. Woody perennial plants with persistent and woody stems\\nand without any defined main stem being less than 5 m tall. The\\nshrub foliage can be either evergreen or deciduous.\\n',\n",
       " 30: 'Herbaceous vegetation. Plants without persistent stem or shoots above ground\\nand lacking definite firm structure. Tree and shrub cover is less\\nthan 10 %.\\n',\n",
       " 40: 'Cultivated and managed vegetation / agriculture. Lands covered with temporary crops followed by harvest\\nand a bare soil period (e.g., single and multiple cropping systems).\\nNote that perennial woody crops will be classified as the appropriate\\nforest or shrub land cover type.\\n',\n",
       " 50: 'Urban / built up. Land covered by buildings and other man-made structures.',\n",
       " 60: 'Bare / sparse vegetation. Lands with exposed soil, sand, or rocks and never has\\nmore than 10 % vegetated cover during any time of the year.\\n',\n",
       " 70: 'Snow and ice. Lands under snow or ice cover throughout the year.',\n",
       " 80: 'Permanent water bodies. Lakes, reservoirs, and rivers. Can be either fresh or salt-water bodies.',\n",
       " 90: 'Herbaceous wetland. Lands with a permanent mixture of water and herbaceous\\nor woody vegetation. The vegetation can be present in either salt,\\nbrackish, or fresh water.\\n',\n",
       " 100: 'Moss and lichen.',\n",
       " 111: 'Closed forest, evergreen needle leaf. Tree canopy >70 %, almost all needle leaf trees remain\\ngreen all year. Canopy is never without green foliage.\\n',\n",
       " 112: 'Closed forest, evergreen broad leaf. Tree canopy >70 %, almost all broadleaf trees remain\\ngreen year round. Canopy is never without green foliage.\\n',\n",
       " 113: 'Closed forest, deciduous needle leaf. Tree canopy >70 %, consists of seasonal needle leaf\\ntree communities with an annual cycle of leaf-on and leaf-off\\nperiods.\\n',\n",
       " 114: 'Closed forest, deciduous broad leaf. Tree canopy >70 %, consists of seasonal broadleaf\\ntree communities with an annual cycle of leaf-on and leaf-off periods.\\n',\n",
       " 115: 'Closed forest, mixed.',\n",
       " 116: 'Closed forest, not matching any of the other definitions.',\n",
       " 121: 'Open forest, evergreen needle leaf. Top layer- trees 15-70 % and second layer- mixed of shrubs\\nand grassland, almost all needle leaf trees remain green all year.\\nCanopy is never without green foliage.\\n',\n",
       " 122: 'Open forest, evergreen broad leaf. Top layer- trees 15-70 % and second layer- mixed of shrubs\\nand grassland, almost all broadleaf trees remain green year round.\\nCanopy is never without green foliage.\\n',\n",
       " 123: 'Open forest, deciduous needle leaf. Top layer- trees 15-70 % and second layer- mixed of shrubs\\nand grassland, consists of seasonal needle leaf tree communities with\\nan annual cycle of leaf-on and leaf-off periods.\\n',\n",
       " 124: 'Open forest, deciduous broad leaf. Top layer- trees 15-70 % and second layer- mixed of shrubs\\nand grassland, consists of seasonal broadleaf tree communities with\\nan annual cycle of leaf-on and leaf-off periods.\\n',\n",
       " 125: 'Open forest, mixed.',\n",
       " 126: 'Open forest, not matching any of the other definitions.',\n",
       " 200: 'Oceans, seas. Can be either fresh or salt-water bodies.'}"
      ]
     },
     "execution_count": 25,
     "metadata": {},
     "output_type": "execute_result"
    }
   ],
   "source": [
    "lc_class_dict = {class_id: label for class_id, label in zip(lc.get('discrete_classification_class_values').getInfo(),\n",
    "                                                  lc.get('discrete_classification_class_names').getInfo())}\n",
    "lc_class_dict"
   ]
  },
  {
   "cell_type": "markdown",
   "metadata": {},
   "source": [
    "## Extract cropland from the land cover map\n",
    "First, we generate a binary mask with the land cover value of 40, which corresponds to cropland (Cultivated and managed vegetation / agriculture). This is done using the command `.eq`  to apply the mask \"equal-to\". Then we apply this mask to the land cover layer itself using the command `.updateMask`  similar to previous steps.\n",
    "\n",
    "\n",
    "### Extract the affected cropland \n",
    "Here, we use the command `.updateMask`  applied to the latest inundation variable (slope-corrected, removed isolated pixels) to get only cropland pixels that were affected by inundation.\n",
    "\n",
    "\n",
    "### Calculate the affected cropland extent\n",
    "First, we multiply the affected cropland image by the pixel area value. For this, we use the command `.multiply`  and combine it with the function ` ee.Image.pixelArea`.\n",
    "\n",
    "\n",
    "### Calculate the total area of affected cropland pixels\n",
    "Here, we use the function `.reduceRegion`  to compute the sum (area) of all the inundated cropland pixels. The options used in this example are:\n",
    "\n",
    "- `reducer = ee.Reducer.sum()` --> to select the Sum statistics \n",
    "- `geometry = roi` --> to limit the extent to our study area\n",
    "- `scale = 100` --> which corresponds to the native spatial resolution of the land cover image\n",
    "- `maxPixels = 1e9` --> is the maximum number of pixels in this GEE request\n",
    "\n",
    "\n",
    "### Convert inundated area to hectares\n",
    "We use the `crop_stats`  variable (dictionary) and the function `.getNumber`  to extract the `key`  value \"VH\". Then, we use the function `.divide`  and the value 10000 to convert the result from square meters to hectares. Finally, we use the function `.round`  to round up the result in hectares.\n",
    "\n",
    "\n",
    "- __print the results to display__ - Here, we simply use the python print command. To obtain the actual value (hectares), we must use the GEE command .getInfo() as seen below."
   ]
  },
  {
   "cell_type": "code",
   "execution_count": 26,
   "metadata": {},
   "outputs": [
    {
     "name": "stdout",
     "output_type": "stream",
     "text": [
      "Calculation result --> Estimated Inundated Cropland area from Hurricane Maria:\n",
      "5686 Hectares\n"
     ]
    }
   ],
   "source": [
    "# Extract only cropland pixels from CGLS using class value equal to 40\n",
    "# (e.g., cultivated and managed vegetation/agriculture)\n",
    "cropmask = lc.eq(40)\n",
    "cropland = lc.updateMask(cropmask)\n",
    "\n",
    "# Extract the affected cropland using the flood layer\n",
    "cropland_affected = inundation3.updateMask(cropland)\n",
    "\n",
    "# Get pixel area of affected cropland layer\n",
    "crop_pixelarea = cropland_affected.multiply(ee.Image.pixelArea());\n",
    "\n",
    "# Sum pixels of affected cropland layer\n",
    "crop_stats = crop_pixelarea.reduceRegion(\n",
    "                              reducer = ee.Reducer.sum(), #sum all pixels with area information\n",
    "                              geometry = roi,\n",
    "                              scale= 100,\n",
    "                              maxPixels= 1e9)\n",
    "\n",
    "# Convert area to hectares\n",
    "crop_area_ha = crop_stats \\\n",
    "                  .getNumber(\"VH\") \\\n",
    "                  .divide(10000) \\\n",
    "                  .round()\n",
    "\n",
    "# Print results to Console\n",
    "print(f'Calculation result --> Estimated Inundated Cropland area from Hurricane Maria:\\n{crop_area_ha.getInfo()} Hectares')\n",
    "#print (crop_area_ha, 'Hectares of Inundated Cropland')"
   ]
  },
  {
   "cell_type": "markdown",
   "metadata": {},
   "source": [
    "## Visualize before/after\n",
    "### Set map visualization parameters\n",
    "This is done for the cropland layers before and after the hurricane. The selected Min and Max are the same (0 - 14). The only difference is the color (Yellow: before hurricane, and Red: after hurricane).\n",
    "\n",
    "\n",
    "### Load a new blank map and add our results \n",
    "\n",
    "- First, we set the map center coordinates and zoom level (same step as before).\n",
    "- Then, we load the study area polygon in Gray color to improve contrast and better see the results.\n",
    "- Add the two \"cropland\" layers (before and after hurricane) using their respective visualization parameters.\n"
   ]
  },
  {
   "cell_type": "code",
   "execution_count": 27,
   "metadata": {
    "tags": []
   },
   "outputs": [
    {
     "data": {
      "application/vnd.jupyter.widget-view+json": {
       "model_id": "b1be2d2fac5d43eba9574d1a265b7fd9",
       "version_major": 2,
       "version_minor": 0
      },
      "text/plain": [
       "Map(center=[18.2208, -66.5901], controls=(WidgetControl(options=['position', 'transparent_bg'], widget=HBox(ch…"
      ]
     },
     "execution_count": 27,
     "metadata": {},
     "output_type": "execute_result"
    }
   ],
   "source": [
    "# Set cropland visualization parameters\n",
    "croplandVis_before = {'min': 0, 'max': 14.0, 'palette': ['Yellow'],}\n",
    "croplandVis_after = {'min': 0, 'max': 14.0, 'palette': ['Red'],}\n",
    "\n",
    "# Add cropland to map\n",
    "Map = geemap.Map(center=[18.2208, -66.5901], zoom = 9)\n",
    "Map.addLayer(roi, {'color': 'gray'}, 'Study Area')\n",
    "Map.addLayer(cropland, croplandVis_before, 'Cropland')\n",
    "\n",
    "# Add affected cropland to map\n",
    "Map.addLayer(cropland_affected, croplandVis_after, 'Affected Cropland')\n",
    "Map"
   ]
  },
  {
   "cell_type": "markdown",
   "metadata": {},
   "source": [
    "## Save a file from GEE\n",
    "If you want to have a copy of the file, you can save it to a `.tiff` to open in another program, such as QGIS or in python with `rasterio`.\n",
    "\n",
    "We can use the `geemap.ee_export_image` [function](https://geemap.org/notebooks/11_export_image/#download-an-eeimage) to do so."
   ]
  },
  {
   "cell_type": "code",
   "execution_count": 28,
   "metadata": {},
   "outputs": [
    {
     "name": "stdout",
     "output_type": "stream",
     "text": [
      "Generating URL ...\n",
      "Downloading data from https://earthengine.googleapis.com/v1alpha/projects/earthengine-legacy/thumbnails/a87af24a4d781c4efbd7728448464685-b410a30115a4bab4560725b408cfe5a0:getPixels\n",
      "Please wait ...\n",
      "Data downloaded to /home/jovyan/05-intro-to-rasters-and-satellite-imagery-VJCS185/affected_cropland.tif\n"
     ]
    }
   ],
   "source": [
    "geemap.ee_export_image(cropland_affected, filename='affected_cropland.tif', scale=100, region=roi.geometry())"
   ]
  },
  {
   "cell_type": "markdown",
   "metadata": {
    "tags": []
   },
   "source": [
    "# Challenge\n",
    "\n",
    "Using this script as a template, find another major event and examine its impacts. \n",
    "\n",
    "- Remember that the DEM, the population layer, and the land cover layer all have **global coverage**. \n",
    "\n",
    "- Remember that **Sentinel-1** SAR data is only available **since 2014** and that **Sentinel-2** data us only available **since 2015**."
   ]
  },
  {
   "cell_type": "code",
   "execution_count": 29,
   "metadata": {},
   "outputs": [
    {
     "name": "stdout",
     "output_type": "stream",
     "text": [
      "Archive:  archive.zip\n",
      "  inflating: canada_fires/DL_FIRE_J1V-C2_357101/Readme.txt  \n",
      "  inflating: canada_fires/DL_FIRE_J1V-C2_357101/fire_nrt_J1V-C2_357101.csv  \n",
      "  inflating: canada_fires/DL_FIRE_M-C61_357100/Readme.txt  \n",
      "  inflating: canada_fires/DL_FIRE_M-C61_357100/fire_nrt_M-C61_357100.csv  \n",
      "  inflating: canada_fires/DL_FIRE_SV-C2_357102/Readme.txt  \n",
      "  inflating: canada_fires/DL_FIRE_SV-C2_357102/fire_nrt_SV-C2_357102.csv  \n"
     ]
    }
   ],
   "source": [
    "#!unzip archive.zip -d canada_fires"
   ]
  },
  {
   "cell_type": "code",
   "execution_count": 30,
   "metadata": {},
   "outputs": [],
   "source": [
    "# Set dates for pre- and post- event\n",
    "pre_event_beg = '2023-01-15'\n",
    "pre_event_final = '2032-01-31'\n",
    "\n",
    "post_event_beg = '2023-06-19'\n",
    "post_event_final = '2023-06-25'"
   ]
  },
  {
   "cell_type": "code",
   "execution_count": 33,
   "metadata": {},
   "outputs": [],
   "source": [
    "# Load the shapefile for your area of interest\n",
    "roi = ee.FeatureCollection(\"FAO/GAUL_SIMPLIFIED_500m/2015/level1\").filter(ee.Filter.eq('ADM0_NAME', 'British Columbia / Colombie-Britannique'))\n"
   ]
  },
  {
   "cell_type": "code",
   "execution_count": 3,
   "metadata": {},
   "outputs": [
    {
     "ename": "NameError",
     "evalue": "name 'geemap' is not defined",
     "output_type": "error",
     "traceback": [
      "\u001b[0;31m---------------------------------------------------------------------------\u001b[0m",
      "\u001b[0;31mNameError\u001b[0m                                 Traceback (most recent call last)",
      "\u001b[0;32m<ipython-input-3-dbc46057b5b7>\u001b[0m in \u001b[0;36m<module>\u001b[0;34m\u001b[0m\n\u001b[1;32m      1\u001b[0m \u001b[0;31m# Use Google maps as the default basemap & display the study area polygon on it.\u001b[0m\u001b[0;34m\u001b[0m\u001b[0;34m\u001b[0m\u001b[0;34m\u001b[0m\u001b[0m\n\u001b[0;32m----> 2\u001b[0;31m \u001b[0mMap\u001b[0m \u001b[0;34m=\u001b[0m \u001b[0mgeemap\u001b[0m\u001b[0;34m.\u001b[0m\u001b[0mMap\u001b[0m\u001b[0;34m(\u001b[0m\u001b[0mcenter\u001b[0m\u001b[0;34m=\u001b[0m\u001b[0;34m[\u001b[0m\u001b[0;36m30.5191\u001b[0m\u001b[0;34m,\u001b[0m \u001b[0;34m-\u001b[0m\u001b[0;36m91.5209\u001b[0m\u001b[0;34m]\u001b[0m\u001b[0;34m,\u001b[0m \u001b[0mzoom\u001b[0m \u001b[0;34m=\u001b[0m \u001b[0;36m10\u001b[0m\u001b[0;34m)\u001b[0m\u001b[0;34m\u001b[0m\u001b[0;34m\u001b[0m\u001b[0m\n\u001b[0m\u001b[1;32m      3\u001b[0m \u001b[0mMap\u001b[0m\u001b[0;34m.\u001b[0m\u001b[0maddLayer\u001b[0m\u001b[0;34m(\u001b[0m\u001b[0mroi\u001b[0m\u001b[0;34m,\u001b[0m \u001b[0;34m{\u001b[0m\u001b[0;34m'color'\u001b[0m\u001b[0;34m:\u001b[0m \u001b[0;34m'gray'\u001b[0m\u001b[0;34m}\u001b[0m\u001b[0;34m,\u001b[0m \u001b[0;34m'Study Area'\u001b[0m\u001b[0;34m)\u001b[0m\u001b[0;34m\u001b[0m\u001b[0;34m\u001b[0m\u001b[0m\n\u001b[1;32m      4\u001b[0m \u001b[0;31m#30.5191° N, 91.5209° W\u001b[0m\u001b[0;34m\u001b[0m\u001b[0;34m\u001b[0m\u001b[0;34m\u001b[0m\u001b[0m\n\u001b[1;32m      5\u001b[0m \u001b[0mMap\u001b[0m\u001b[0;34m\u001b[0m\u001b[0;34m\u001b[0m\u001b[0m\n",
      "\u001b[0;31mNameError\u001b[0m: name 'geemap' is not defined"
     ]
    }
   ],
   "source": [
    "# Use Google maps as the default basemap & display the study area polygon on it.\n",
    "Map = geemap.Map(center=[30.5191, -91.5209], zoom = 10)\n",
    "Map.addLayer(roi, {'color': 'gray'}, 'Study Area')\n",
    "#30.5191° N, 91.5209° W\n",
    "Map"
   ]
  },
  {
   "cell_type": "code",
   "execution_count": 43,
   "metadata": {},
   "outputs": [
    {
     "name": "stdout",
     "output_type": "stream",
     "text": [
      "https://earthengine.googleapis.com/v1/projects/earthengine-legacy/thumbnails/ea095bf68fd089203f6b568ea22b8f2c-cc94be874d55b04ccb7f6d099294c4c9:getPixels\n"
     ]
    }
   ],
   "source": [
    "# Define the region of interest.\n",
    "austrian_alps = ee.Geometry.Polygon(\n",
    "        [[[10.0, 47.0], [16.0, 47.0], [16.0, 46.0], [10.0, 46.0], [10.0, 47.0]]])\n",
    "\n",
    "# Define the time range.\n",
    "start_year = 2013\n",
    "end_year = 2023\n",
    "\n",
    "# Create an image collection for Landsat 8.\n",
    "collection = ee.ImageCollection('LANDSAT/LC08/C01/T1_TOA')\\\n",
    "    .filterDate(str(start_year)+'-01-01', str(end_year)+'-12-31')\\\n",
    "    .filterBounds(austrian_alps)\n",
    "\n",
    "# Create a median composite image.\n",
    "median = collection.median()\n",
    "\n",
    "# Clip the image to the region of interest.\n",
    "clipped = median.clip(austrian_alps)\n",
    "\n",
    "# Rescale the image.\n",
    "rescaled = clipped.reproject(ee.Projection('EPSG:4326'), None, 2000)\n",
    "\n",
    "# Display the image.\n",
    "print(rescaled.getThumbUrl({'min': 0, 'max': 0.3, 'bands': 'B4,B3,B2', 'dimensions': '800x170'}))\n"
   ]
  },
  {
   "cell_type": "code",
   "execution_count": null,
   "metadata": {},
   "outputs": [],
   "source": []
  }
 ],
 "metadata": {
  "kernelspec": {
   "display_name": "Python 3",
   "language": "python",
   "name": "python3"
  },
  "language_info": {
   "codemirror_mode": {
    "name": "ipython",
    "version": 3
   },
   "file_extension": ".py",
   "mimetype": "text/x-python",
   "name": "python",
   "nbconvert_exporter": "python",
   "pygments_lexer": "ipython3",
   "version": "3.7.6"
  }
 },
 "nbformat": 4,
 "nbformat_minor": 5
}
